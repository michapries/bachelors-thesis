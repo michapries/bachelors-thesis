{
 "cells": [
  {
   "cell_type": "markdown",
   "metadata": {},
   "source": [
    "# Pipeline"
   ]
  },
  {
   "cell_type": "markdown",
   "metadata": {},
   "source": [
    "1. Preprocessing\n",
    "2. Data Extraction\n",
    "3. **Data Exploration**\n",
    "4. Model\n",
    "\n",
    "This file explores the data at hand. This is done by visual means and relevant statistic figues."
   ]
  },
  {
   "cell_type": "markdown",
   "metadata": {},
   "source": [
    "# Imports"
   ]
  },
  {
   "cell_type": "code",
   "execution_count": 1,
   "metadata": {},
   "outputs": [],
   "source": [
    "import pandas as pd\n",
    "import numpy as np\n",
    "import matplotlib.pyplot as plt\n",
    "import seaborn as sns"
   ]
  },
  {
   "cell_type": "code",
   "execution_count": 2,
   "metadata": {},
   "outputs": [],
   "source": [
    "results = pd.read_pickle('preprocessed_results.pkl')\n",
    "df = pd.read_pickle('feature_frame.pkl')"
   ]
  },
  {
   "cell_type": "code",
   "execution_count": 4,
   "metadata": {},
   "outputs": [
    {
     "data": {
      "text/html": [
       "<div>\n",
       "<style scoped>\n",
       "    .dataframe tbody tr th:only-of-type {\n",
       "        vertical-align: middle;\n",
       "    }\n",
       "\n",
       "    .dataframe tbody tr th {\n",
       "        vertical-align: top;\n",
       "    }\n",
       "\n",
       "    .dataframe thead th {\n",
       "        text-align: right;\n",
       "    }\n",
       "</style>\n",
       "<table border=\"1\" class=\"dataframe\">\n",
       "  <thead>\n",
       "    <tr style=\"text-align: right;\">\n",
       "      <th></th>\n",
       "      <th>Div</th>\n",
       "      <th>Date</th>\n",
       "      <th>HomeID</th>\n",
       "      <th>AwayID</th>\n",
       "      <th>FTHG</th>\n",
       "      <th>FTAG</th>\n",
       "      <th>FTR</th>\n",
       "      <th>HTHG</th>\n",
       "      <th>HTAG</th>\n",
       "      <th>HTR</th>\n",
       "      <th>...</th>\n",
       "      <th>HST</th>\n",
       "      <th>AST</th>\n",
       "      <th>HF</th>\n",
       "      <th>AF</th>\n",
       "      <th>HC</th>\n",
       "      <th>AC</th>\n",
       "      <th>HY</th>\n",
       "      <th>AY</th>\n",
       "      <th>HR</th>\n",
       "      <th>AR</th>\n",
       "    </tr>\n",
       "  </thead>\n",
       "  <tbody>\n",
       "    <tr>\n",
       "      <th>0</th>\n",
       "      <td>E1</td>\n",
       "      <td>2010-08-14</td>\n",
       "      <td>0</td>\n",
       "      <td>15</td>\n",
       "      <td>3</td>\n",
       "      <td>0</td>\n",
       "      <td>1</td>\n",
       "      <td>2</td>\n",
       "      <td>0</td>\n",
       "      <td>H</td>\n",
       "      <td>...</td>\n",
       "      <td>11</td>\n",
       "      <td>2</td>\n",
       "      <td>15</td>\n",
       "      <td>15</td>\n",
       "      <td>16</td>\n",
       "      <td>7</td>\n",
       "      <td>1</td>\n",
       "      <td>2</td>\n",
       "      <td>0</td>\n",
       "      <td>0</td>\n",
       "    </tr>\n",
       "  </tbody>\n",
       "</table>\n",
       "<p>1 rows × 22 columns</p>\n",
       "</div>"
      ],
      "text/plain": [
       "  Div        Date  HomeID  AwayID  FTHG  FTAG  FTR  HTHG  HTAG HTR  ...  HST  \\\n",
       "0  E1  2010-08-14       0      15     3     0    1     2     0   H  ...   11   \n",
       "\n",
       "   AST  HF  AF  HC  AC  HY  AY  HR  AR  \n",
       "0    2  15  15  16   7   1   2   0   0  \n",
       "\n",
       "[1 rows x 22 columns]"
      ]
     },
     "execution_count": 4,
     "metadata": {},
     "output_type": "execute_result"
    }
   ],
   "source": [
    "results.head(1)"
   ]
  },
  {
   "cell_type": "code",
   "execution_count": 5,
   "metadata": {
    "scrolled": true
   },
   "outputs": [
    {
     "data": {
      "text/html": [
       "<div>\n",
       "<style scoped>\n",
       "    .dataframe tbody tr th:only-of-type {\n",
       "        vertical-align: middle;\n",
       "    }\n",
       "\n",
       "    .dataframe tbody tr th {\n",
       "        vertical-align: top;\n",
       "    }\n",
       "\n",
       "    .dataframe thead th {\n",
       "        text-align: right;\n",
       "    }\n",
       "</style>\n",
       "<table border=\"1\" class=\"dataframe\">\n",
       "  <thead>\n",
       "    <tr style=\"text-align: right;\">\n",
       "      <th></th>\n",
       "      <th>HomeID</th>\n",
       "      <th>AwayID</th>\n",
       "      <th>FTHG</th>\n",
       "      <th>FTAG</th>\n",
       "      <th>FTR</th>\n",
       "      <th>Date</th>\n",
       "      <th>H_WIN_PCT_home</th>\n",
       "      <th>H_DRAW_PCT_home</th>\n",
       "      <th>A_WIN_PCT_home</th>\n",
       "      <th>A_DRAW_PCT_home</th>\n",
       "      <th>...</th>\n",
       "      <th>REL_PTS_1_away</th>\n",
       "      <th>REL_PTS_2_away</th>\n",
       "      <th>REL_PTS_3_away</th>\n",
       "      <th>REL_PTS_4_away</th>\n",
       "      <th>REL_PTS_5_away</th>\n",
       "      <th>REL_PTS_N-0_away</th>\n",
       "      <th>REL_PTS_N-1_away</th>\n",
       "      <th>REL_PTS_N-2_away</th>\n",
       "      <th>REL_PTS_N-3_away</th>\n",
       "      <th>REL_PTS_N-4_away</th>\n",
       "    </tr>\n",
       "  </thead>\n",
       "  <tbody>\n",
       "    <tr>\n",
       "      <th>0</th>\n",
       "      <td>0</td>\n",
       "      <td>15</td>\n",
       "      <td>3</td>\n",
       "      <td>0</td>\n",
       "      <td>1</td>\n",
       "      <td>2010-08-14</td>\n",
       "      <td>0.0</td>\n",
       "      <td>0.0</td>\n",
       "      <td>0.0</td>\n",
       "      <td>0.0</td>\n",
       "      <td>...</td>\n",
       "      <td>0.0</td>\n",
       "      <td>0.0</td>\n",
       "      <td>0.0</td>\n",
       "      <td>0.0</td>\n",
       "      <td>0.0</td>\n",
       "      <td>0.0</td>\n",
       "      <td>0.0</td>\n",
       "      <td>0.0</td>\n",
       "      <td>0.0</td>\n",
       "      <td>0.0</td>\n",
       "    </tr>\n",
       "  </tbody>\n",
       "</table>\n",
       "<p>1 rows × 91 columns</p>\n",
       "</div>"
      ],
      "text/plain": [
       "   HomeID  AwayID  FTHG  FTAG  FTR        Date  H_WIN_PCT_home  \\\n",
       "0       0      15     3     0    1  2010-08-14             0.0   \n",
       "\n",
       "   H_DRAW_PCT_home  A_WIN_PCT_home  A_DRAW_PCT_home  ...  REL_PTS_1_away  \\\n",
       "0              0.0             0.0              0.0  ...             0.0   \n",
       "\n",
       "   REL_PTS_2_away  REL_PTS_3_away  REL_PTS_4_away  REL_PTS_5_away  \\\n",
       "0             0.0             0.0             0.0             0.0   \n",
       "\n",
       "   REL_PTS_N-0_away  REL_PTS_N-1_away  REL_PTS_N-2_away  REL_PTS_N-3_away  \\\n",
       "0               0.0               0.0               0.0               0.0   \n",
       "\n",
       "   REL_PTS_N-4_away  \n",
       "0               0.0  \n",
       "\n",
       "[1 rows x 91 columns]"
      ]
     },
     "execution_count": 5,
     "metadata": {},
     "output_type": "execute_result"
    }
   ],
   "source": [
    "df.head(1)"
   ]
  },
  {
   "cell_type": "code",
   "execution_count": 3,
   "metadata": {},
   "outputs": [],
   "source": [
    "D1_games = results[results.Div == 'D1']\n",
    "E1_games = results[results.Div == 'E1']\n",
    "I1_games = results[results.Div == 'I1']\n",
    "SP1_games = results[results.Div == 'SP1']"
   ]
  },
  {
   "cell_type": "code",
   "execution_count": 4,
   "metadata": {},
   "outputs": [],
   "source": [
    "# Gets home win percentage, draw percentage, away percentage\n",
    "def get_win_percentages(df):\n",
    "    return sum(df['FTR'] == 1) / len(df), sum(df['FTR'] == 0) / len(df), sum(df['FTR'] == 2) / len(df)"
   ]
  },
  {
   "cell_type": "markdown",
   "metadata": {},
   "source": [
    "# Win percentages"
   ]
  },
  {
   "cell_type": "code",
   "execution_count": 13,
   "metadata": {},
   "outputs": [],
   "source": [
    "league_labels = ['Premier League', 'Bundesliga', 'Serie A', 'Primera División']\n",
    "h_win_pcts = [get_win_percentages(E1_games)[0], get_win_percentages(D1_games)[0], get_win_percentages(I1_games)[0], get_win_percentages(SP1_games)[0]]\n",
    "draw_pcts = [get_win_percentages(E1_games)[1], get_win_percentages(D1_games)[1], get_win_percentages(I1_games)[1], get_win_percentages(SP1_games)[1]]\n",
    "a_win_pcts = [get_win_percentages(E1_games)[2], get_win_percentages(D1_games)[2], get_win_percentages(I1_games)[2], get_win_percentages(SP1_games)[2]]\n",
    "\n",
    "x = np.arange(len(league_labels))\n",
    "width = 0.35"
   ]
  },
  {
   "cell_type": "code",
   "execution_count": 5,
   "metadata": {},
   "outputs": [
    {
     "data": {
      "text/plain": [
       "Div  FTR\n",
       "D1   1      0.458243\n",
       "     2      0.299564\n",
       "     0      0.242193\n",
       "E1   1      0.457602\n",
       "     2      0.295614\n",
       "     0      0.246784\n",
       "I1   1      0.453774\n",
       "     2      0.288765\n",
       "     0      0.257461\n",
       "SP1  1      0.478070\n",
       "     2      0.284795\n",
       "     0      0.237135\n",
       "Name: FTR, dtype: float64"
      ]
     },
     "execution_count": 5,
     "metadata": {},
     "output_type": "execute_result"
    }
   ],
   "source": [
    "results.groupby('Div')['FTR'].value_counts(normalize=True)"
   ]
  },
  {
   "cell_type": "code",
   "execution_count": 58,
   "metadata": {},
   "outputs": [
    {
     "data": {
      "image/png": "[encoded data removed]",
      "text/plain": [
       "<Figure size 882x252 with 1 Axes>"
      ]
     },
     "metadata": {},
     "output_type": "display_data"
    }
   ],
   "source": [
    "#plt.figure(figsize=(16, 6))\n",
    "sns.set_theme()\n",
    "sns.set(font_scale=1.7)\n",
    "x, y = 'Div', 'FTR'\n",
    "fig = (results.groupby(x)[y]\n",
    " .value_counts(normalize=True)\n",
    " .rename('Proportion of results')\n",
    " .reset_index()\n",
    " .pipe((sns.catplot, 'data'), x=x, y='Proportion of results', hue=y, kind='bar', alpha=.75, palette='dark', height=3.5, aspect=3.5, legend_out=False))\n",
    "\n",
    "L = plt.legend(bbox_to_anchor=(1.02, 1), loc=2, borderaxespad=0.)\n",
    "L.get_texts()[0].set_text('Draw')\n",
    "L.get_texts()[1].set_text('Home Win')\n",
    "L.get_texts()[2].set_text('Away Win')\n",
    "#fig._legend.set_title(\"Result\")\n",
    "#fig.ax.legend(loc=2)\n",
    "new_labels = ['Draw', 'Home Win', 'Away Win']\n",
    "for t, l in zip(fig._legend.texts, new_labels): \n",
    "    t.set_text(l)\n",
    "\n",
    "\n",
    "fig.despine(right=False)\n",
    "#fig._legend.set_position()\n",
    "#plt.legend(loc='upper right')\n",
    "plt.xlabel(\"Division\")\n",
    "#plt.gcf().subplots_adjust(bottom=0.2, left=0.085, right=1)\n",
    "plt.savefig(\"graphic_files/league_results.pdf\", format='pdf', dpi=500, bbox_inches='tight')"
   ]
  },
  {
   "cell_type": "code",
   "execution_count": 8,
   "metadata": {},
   "outputs": [
    {
     "data": {
      "text/plain": [
       "(0.4537741369221767, 0.2574605032182563, 0.288765359859567)"
      ]
     },
     "execution_count": 8,
     "metadata": {},
     "output_type": "execute_result"
    }
   ],
   "source": [
    "get_win_percentages(I1_games)"
   ]
  },
  {
   "cell_type": "code",
   "execution_count": 23,
   "metadata": {},
   "outputs": [
    {
     "data": {
      "text/plain": [
       "1262"
      ]
     },
     "execution_count": 23,
     "metadata": {},
     "output_type": "execute_result"
    }
   ],
   "source": [
    "sum(D1_games['FTR'] == 1)"
   ]
  }
 ],
 "metadata": {
  "kernelspec": {
   "display_name": "Python 3",
   "language": "python",
   "name": "python3"
  },
  "language_info": {
   "codemirror_mode": {
    "name": "ipython",
    "version": 3
   },
   "file_extension": ".py",
   "mimetype": "text/x-python",
   "name": "python",
   "nbconvert_exporter": "python",
   "pygments_lexer": "ipython3",
   "version": "3.8.3"
  }
 },
 "nbformat": 4,
 "nbformat_minor": 4
}
