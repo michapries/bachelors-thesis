{
 "cells": [
  {
   "cell_type": "markdown",
   "metadata": {},
   "source": [
    "# Pipeline"
   ]
  },
  {
   "cell_type": "markdown",
   "metadata": {},
   "source": [
    "1. Preprocessing\n",
    "2. Data Extraction\n",
    "3. **Model**\n",
    "\n",
    "This file initializes the model and makes predictions too."
   ]
  },
  {
   "cell_type": "markdown",
   "metadata": {},
   "source": [
    "# Imports"
   ]
  },
  {
   "cell_type": "code",
   "execution_count": 1,
   "metadata": {},
   "outputs": [],
   "source": [
    "import pandas as pd\n",
    "import numpy as np\n",
    "import xgboost as xgb\n",
    "from sklearn.model_selection import train_test_split"
   ]
  },
  {
   "cell_type": "code",
   "execution_count": 2,
   "metadata": {},
   "outputs": [],
   "source": [
    "# Get feature dataframe from pickle file\n",
    "df = pd.read_pickle('feature_frame.pkl')"
   ]
  },
  {
   "cell_type": "code",
   "execution_count": 3,
   "metadata": {
    "scrolled": true
   },
   "outputs": [
    {
     "data": {
      "text/html": [
       "<div>\n",
       "<style scoped>\n",
       "    .dataframe tbody tr th:only-of-type {\n",
       "        vertical-align: middle;\n",
       "    }\n",
       "\n",
       "    .dataframe tbody tr th {\n",
       "        vertical-align: top;\n",
       "    }\n",
       "\n",
       "    .dataframe thead th {\n",
       "        text-align: right;\n",
       "    }\n",
       "</style>\n",
       "<table border=\"1\" class=\"dataframe\">\n",
       "  <thead>\n",
       "    <tr style=\"text-align: right;\">\n",
       "      <th></th>\n",
       "      <th>HomeID</th>\n",
       "      <th>AwayID</th>\n",
       "      <th>FTHG</th>\n",
       "      <th>FTAG</th>\n",
       "      <th>FTR</th>\n",
       "      <th>H_WIN_PCT_home</th>\n",
       "      <th>H_DRAW_PCT_home</th>\n",
       "      <th>A_WIN_PCT_home</th>\n",
       "      <th>A_DRAW_PCT_home</th>\n",
       "      <th>H_WIN_PCT_away</th>\n",
       "      <th>...</th>\n",
       "      <th>REST_away</th>\n",
       "      <th>H_GS_AVG_league</th>\n",
       "      <th>A_GS_AVG_league</th>\n",
       "      <th>H_GS_STD_league</th>\n",
       "      <th>A_GS_STD_league</th>\n",
       "      <th>H_WIN_PCT_league</th>\n",
       "      <th>DRAW_PCT_league</th>\n",
       "      <th>TEAM_CNT_league</th>\n",
       "      <th>GD_STD_league</th>\n",
       "      <th>RND_CNT_league</th>\n",
       "    </tr>\n",
       "  </thead>\n",
       "  <tbody>\n",
       "    <tr>\n",
       "      <th>0</th>\n",
       "      <td>0</td>\n",
       "      <td>15</td>\n",
       "      <td>3</td>\n",
       "      <td>0</td>\n",
       "      <td>1</td>\n",
       "      <td>0.000000</td>\n",
       "      <td>0.000000</td>\n",
       "      <td>0.0</td>\n",
       "      <td>0.333333</td>\n",
       "      <td>0.000000</td>\n",
       "      <td>...</td>\n",
       "      <td>7</td>\n",
       "      <td>1.600000</td>\n",
       "      <td>0.900000</td>\n",
       "      <td>0.968468</td>\n",
       "      <td>0.758856</td>\n",
       "      <td>0.566667</td>\n",
       "      <td>0.300000</td>\n",
       "      <td>20</td>\n",
       "      <td>0.922889</td>\n",
       "      <td>38</td>\n",
       "    </tr>\n",
       "    <tr>\n",
       "      <th>1</th>\n",
       "      <td>1</td>\n",
       "      <td>12</td>\n",
       "      <td>1</td>\n",
       "      <td>0</td>\n",
       "      <td>1</td>\n",
       "      <td>1.000000</td>\n",
       "      <td>0.000000</td>\n",
       "      <td>0.0</td>\n",
       "      <td>0.000000</td>\n",
       "      <td>0.000000</td>\n",
       "      <td>...</td>\n",
       "      <td>7</td>\n",
       "      <td>1.600000</td>\n",
       "      <td>0.900000</td>\n",
       "      <td>0.968468</td>\n",
       "      <td>0.758856</td>\n",
       "      <td>0.566667</td>\n",
       "      <td>0.300000</td>\n",
       "      <td>20</td>\n",
       "      <td>0.922889</td>\n",
       "      <td>38</td>\n",
       "    </tr>\n",
       "    <tr>\n",
       "      <th>2</th>\n",
       "      <td>2</td>\n",
       "      <td>16</td>\n",
       "      <td>0</td>\n",
       "      <td>0</td>\n",
       "      <td>0</td>\n",
       "      <td>1.000000</td>\n",
       "      <td>0.000000</td>\n",
       "      <td>0.0</td>\n",
       "      <td>0.500000</td>\n",
       "      <td>0.000000</td>\n",
       "      <td>...</td>\n",
       "      <td>7</td>\n",
       "      <td>1.600000</td>\n",
       "      <td>0.900000</td>\n",
       "      <td>0.968468</td>\n",
       "      <td>0.758856</td>\n",
       "      <td>0.566667</td>\n",
       "      <td>0.300000</td>\n",
       "      <td>20</td>\n",
       "      <td>0.922889</td>\n",
       "      <td>38</td>\n",
       "    </tr>\n",
       "    <tr>\n",
       "      <th>3</th>\n",
       "      <td>3</td>\n",
       "      <td>14</td>\n",
       "      <td>6</td>\n",
       "      <td>0</td>\n",
       "      <td>1</td>\n",
       "      <td>0.500000</td>\n",
       "      <td>0.500000</td>\n",
       "      <td>0.0</td>\n",
       "      <td>0.000000</td>\n",
       "      <td>0.333333</td>\n",
       "      <td>...</td>\n",
       "      <td>7</td>\n",
       "      <td>1.600000</td>\n",
       "      <td>0.900000</td>\n",
       "      <td>0.968468</td>\n",
       "      <td>0.758856</td>\n",
       "      <td>0.566667</td>\n",
       "      <td>0.300000</td>\n",
       "      <td>20</td>\n",
       "      <td>0.922889</td>\n",
       "      <td>38</td>\n",
       "    </tr>\n",
       "    <tr>\n",
       "      <th>4</th>\n",
       "      <td>4</td>\n",
       "      <td>11</td>\n",
       "      <td>2</td>\n",
       "      <td>2</td>\n",
       "      <td>0</td>\n",
       "      <td>0.666667</td>\n",
       "      <td>0.333333</td>\n",
       "      <td>0.0</td>\n",
       "      <td>0.000000</td>\n",
       "      <td>0.000000</td>\n",
       "      <td>...</td>\n",
       "      <td>7</td>\n",
       "      <td>1.600000</td>\n",
       "      <td>0.900000</td>\n",
       "      <td>0.968468</td>\n",
       "      <td>0.758856</td>\n",
       "      <td>0.566667</td>\n",
       "      <td>0.300000</td>\n",
       "      <td>20</td>\n",
       "      <td>0.922889</td>\n",
       "      <td>38</td>\n",
       "    </tr>\n",
       "    <tr>\n",
       "      <th>5</th>\n",
       "      <td>5</td>\n",
       "      <td>18</td>\n",
       "      <td>0</td>\n",
       "      <td>0</td>\n",
       "      <td>0</td>\n",
       "      <td>1.000000</td>\n",
       "      <td>0.000000</td>\n",
       "      <td>0.0</td>\n",
       "      <td>0.500000</td>\n",
       "      <td>1.000000</td>\n",
       "      <td>...</td>\n",
       "      <td>7</td>\n",
       "      <td>1.600000</td>\n",
       "      <td>0.900000</td>\n",
       "      <td>0.968468</td>\n",
       "      <td>0.758856</td>\n",
       "      <td>0.566667</td>\n",
       "      <td>0.300000</td>\n",
       "      <td>20</td>\n",
       "      <td>0.922889</td>\n",
       "      <td>38</td>\n",
       "    </tr>\n",
       "    <tr>\n",
       "      <th>6</th>\n",
       "      <td>6</td>\n",
       "      <td>19</td>\n",
       "      <td>0</td>\n",
       "      <td>4</td>\n",
       "      <td>2</td>\n",
       "      <td>0.500000</td>\n",
       "      <td>0.500000</td>\n",
       "      <td>0.0</td>\n",
       "      <td>0.000000</td>\n",
       "      <td>0.500000</td>\n",
       "      <td>...</td>\n",
       "      <td>7</td>\n",
       "      <td>1.600000</td>\n",
       "      <td>0.900000</td>\n",
       "      <td>0.968468</td>\n",
       "      <td>0.758856</td>\n",
       "      <td>0.566667</td>\n",
       "      <td>0.300000</td>\n",
       "      <td>20</td>\n",
       "      <td>0.922889</td>\n",
       "      <td>38</td>\n",
       "    </tr>\n",
       "    <tr>\n",
       "      <th>7</th>\n",
       "      <td>7</td>\n",
       "      <td>13</td>\n",
       "      <td>2</td>\n",
       "      <td>1</td>\n",
       "      <td>1</td>\n",
       "      <td>0.000000</td>\n",
       "      <td>0.000000</td>\n",
       "      <td>0.0</td>\n",
       "      <td>0.000000</td>\n",
       "      <td>1.000000</td>\n",
       "      <td>...</td>\n",
       "      <td>7</td>\n",
       "      <td>1.600000</td>\n",
       "      <td>0.900000</td>\n",
       "      <td>0.968468</td>\n",
       "      <td>0.758856</td>\n",
       "      <td>0.566667</td>\n",
       "      <td>0.300000</td>\n",
       "      <td>20</td>\n",
       "      <td>0.922889</td>\n",
       "      <td>38</td>\n",
       "    </tr>\n",
       "    <tr>\n",
       "      <th>8</th>\n",
       "      <td>8</td>\n",
       "      <td>10</td>\n",
       "      <td>1</td>\n",
       "      <td>1</td>\n",
       "      <td>0</td>\n",
       "      <td>0.666667</td>\n",
       "      <td>0.000000</td>\n",
       "      <td>0.0</td>\n",
       "      <td>0.000000</td>\n",
       "      <td>0.500000</td>\n",
       "      <td>...</td>\n",
       "      <td>7</td>\n",
       "      <td>1.631579</td>\n",
       "      <td>0.894737</td>\n",
       "      <td>1.239465</td>\n",
       "      <td>0.923843</td>\n",
       "      <td>0.552632</td>\n",
       "      <td>0.315789</td>\n",
       "      <td>20</td>\n",
       "      <td>1.308686</td>\n",
       "      <td>38</td>\n",
       "    </tr>\n",
       "    <tr>\n",
       "      <th>9</th>\n",
       "      <td>9</td>\n",
       "      <td>17</td>\n",
       "      <td>3</td>\n",
       "      <td>0</td>\n",
       "      <td>1</td>\n",
       "      <td>1.000000</td>\n",
       "      <td>0.000000</td>\n",
       "      <td>0.0</td>\n",
       "      <td>1.000000</td>\n",
       "      <td>0.000000</td>\n",
       "      <td>...</td>\n",
       "      <td>7</td>\n",
       "      <td>1.615385</td>\n",
       "      <td>0.897436</td>\n",
       "      <td>1.227222</td>\n",
       "      <td>0.911762</td>\n",
       "      <td>0.538462</td>\n",
       "      <td>0.333333</td>\n",
       "      <td>20</td>\n",
       "      <td>1.307097</td>\n",
       "      <td>38</td>\n",
       "    </tr>\n",
       "  </tbody>\n",
       "</table>\n",
       "<p>10 rows × 52 columns</p>\n",
       "</div>"
      ],
      "text/plain": [
       "   HomeID  AwayID  FTHG  FTAG  FTR  H_WIN_PCT_home  H_DRAW_PCT_home  \\\n",
       "0       0      15     3     0    1        0.000000         0.000000   \n",
       "1       1      12     1     0    1        1.000000         0.000000   \n",
       "2       2      16     0     0    0        1.000000         0.000000   \n",
       "3       3      14     6     0    1        0.500000         0.500000   \n",
       "4       4      11     2     2    0        0.666667         0.333333   \n",
       "5       5      18     0     0    0        1.000000         0.000000   \n",
       "6       6      19     0     4    2        0.500000         0.500000   \n",
       "7       7      13     2     1    1        0.000000         0.000000   \n",
       "8       8      10     1     1    0        0.666667         0.000000   \n",
       "9       9      17     3     0    1        1.000000         0.000000   \n",
       "\n",
       "   A_WIN_PCT_home  A_DRAW_PCT_home  H_WIN_PCT_away  ...  REST_away  \\\n",
       "0             0.0         0.333333        0.000000  ...          7   \n",
       "1             0.0         0.000000        0.000000  ...          7   \n",
       "2             0.0         0.500000        0.000000  ...          7   \n",
       "3             0.0         0.000000        0.333333  ...          7   \n",
       "4             0.0         0.000000        0.000000  ...          7   \n",
       "5             0.0         0.500000        1.000000  ...          7   \n",
       "6             0.0         0.000000        0.500000  ...          7   \n",
       "7             0.0         0.000000        1.000000  ...          7   \n",
       "8             0.0         0.000000        0.500000  ...          7   \n",
       "9             0.0         1.000000        0.000000  ...          7   \n",
       "\n",
       "   H_GS_AVG_league  A_GS_AVG_league  H_GS_STD_league  A_GS_STD_league  \\\n",
       "0         1.600000         0.900000         0.968468         0.758856   \n",
       "1         1.600000         0.900000         0.968468         0.758856   \n",
       "2         1.600000         0.900000         0.968468         0.758856   \n",
       "3         1.600000         0.900000         0.968468         0.758856   \n",
       "4         1.600000         0.900000         0.968468         0.758856   \n",
       "5         1.600000         0.900000         0.968468         0.758856   \n",
       "6         1.600000         0.900000         0.968468         0.758856   \n",
       "7         1.600000         0.900000         0.968468         0.758856   \n",
       "8         1.631579         0.894737         1.239465         0.923843   \n",
       "9         1.615385         0.897436         1.227222         0.911762   \n",
       "\n",
       "   H_WIN_PCT_league  DRAW_PCT_league  TEAM_CNT_league  GD_STD_league  \\\n",
       "0          0.566667         0.300000               20       0.922889   \n",
       "1          0.566667         0.300000               20       0.922889   \n",
       "2          0.566667         0.300000               20       0.922889   \n",
       "3          0.566667         0.300000               20       0.922889   \n",
       "4          0.566667         0.300000               20       0.922889   \n",
       "5          0.566667         0.300000               20       0.922889   \n",
       "6          0.566667         0.300000               20       0.922889   \n",
       "7          0.566667         0.300000               20       0.922889   \n",
       "8          0.552632         0.315789               20       1.308686   \n",
       "9          0.538462         0.333333               20       1.307097   \n",
       "\n",
       "   RND_CNT_league  \n",
       "0              38  \n",
       "1              38  \n",
       "2              38  \n",
       "3              38  \n",
       "4              38  \n",
       "5              38  \n",
       "6              38  \n",
       "7              38  \n",
       "8              38  \n",
       "9              38  \n",
       "\n",
       "[10 rows x 52 columns]"
      ]
     },
     "execution_count": 3,
     "metadata": {},
     "output_type": "execute_result"
    }
   ],
   "source": [
    "df.head(10)"
   ]
  },
  {
   "cell_type": "markdown",
   "metadata": {},
   "source": [
    "# Extracting target variables and features"
   ]
  },
  {
   "cell_type": "code",
   "execution_count": 4,
   "metadata": {},
   "outputs": [],
   "source": [
    "# If True, the goal difference for a specific game is seen as the target variable.\n",
    "# (e.g. -3 for a game outcome of 1:4, or 2 for 3:1) .\n",
    "#\n",
    "# If False, we just want to predict the winner.\n",
    "# 1 = Home team wins, 0 = Draw, 2 = Away team wins\n",
    "predict_goal_difference = False\n",
    "\n",
    "if predict_goal_difference:\n",
    "    y = df['FTHG'] - df['FTAG']\n",
    "else:\n",
    "    y = df['FTR']\n",
    "\n",
    "X = df.iloc[:,5:]    # Remove unnecessary columns (IDs etc.) from features"
   ]
  },
  {
   "cell_type": "markdown",
   "metadata": {},
   "source": [
    "# Ranked Probability Score (RPS)"
   ]
  },
  {
   "cell_type": "code",
   "execution_count": 26,
   "metadata": {},
   "outputs": [],
   "source": [
    "def rps(pred, actual_value, r=3):\n",
    "    '''Returns the ranked probability score for a single given game.\n",
    "    (see Hubacek paper for formula)\n",
    "    \n",
    "    Arguments:\n",
    "    pred -- predicted results; in vector form (e.g. [0.1, 0.6, 0.3])\n",
    "    actual_value -- actual result (0, 1 or 2); not in vector form yet\n",
    "    r -- number of categories (3 for football)\n",
    "    '''\n",
    "    value_vec = [0, 0, 0]\n",
    "    \n",
    "    # Bring value_vec into 1, 0, 2 order\n",
    "    if actual_value == 0:\n",
    "        value_vec[1] = 1\n",
    "    elif actual_value == 2:\n",
    "        value_vec[0] == 1\n",
    "    elif actual_value == 1:\n",
    "        value_vec[2] == 1\n",
    "    else:\n",
    "        raise Exception('Prediction was not in [1, 0, 2].')\n",
    "    #value_vec = [0, 0, 1]\n",
    "    \n",
    "    #pred[0], pred[1] = pred[1], pred[0]\n",
    "    \n",
    "    pred[0], pred[1], pred[2] = pred[2], pred[0], pred[1]   # order: loss, draw, win\n",
    "    \n",
    "    #print(pred)\n",
    "    \n",
    "    rps = 0\n",
    "    \n",
    "    for i in range(0, r-1):    # r-1 becomes r because of the exclusion of range()\n",
    "        bracket_part = 0\n",
    "        for j in range(0, i+1):    # same for i and i+1\n",
    "            bracket_part += pred[j] - value_vec[j]\n",
    "        \n",
    "        rps += np.square(bracket_part)\n",
    "    \n",
    "    rps *= 1 / (r - 1)\n",
    "    \n",
    "    return rps"
   ]
  },
  {
   "cell_type": "markdown",
   "metadata": {},
   "source": [
    "# First model fit"
   ]
  },
  {
   "cell_type": "code",
   "execution_count": 6,
   "metadata": {},
   "outputs": [],
   "source": [
    "X_train, X_test, y_train, y_test = train_test_split(X, y, test_size=0.222, random_state=16)"
   ]
  },
  {
   "cell_type": "code",
   "execution_count": 7,
   "metadata": {},
   "outputs": [],
   "source": [
    "# n_estimators=5 seems to be the best choice for now\n",
    "xgb_cl = xgb.XGBClassifier(objective='multi:softprob', n_estimators=5, seed=16)"
   ]
  },
  {
   "cell_type": "code",
   "execution_count": 8,
   "metadata": {},
   "outputs": [
    {
     "name": "stderr",
     "output_type": "stream",
     "text": [
      "d:\\python38\\lib\\site-packages\\xgboost\\sklearn.py:892: UserWarning: The use of label encoder in XGBClassifier is deprecated and will be removed in a future release. To remove this warning, do the following: 1) Pass option use_label_encoder=False when constructing XGBClassifier object; and 2) Encode your labels (y) as integers starting with 0, i.e. 0, 1, 2, ..., [num_class - 1].\n",
      "  warnings.warn(label_encoder_deprecation_msg, UserWarning)\n"
     ]
    },
    {
     "name": "stdout",
     "output_type": "stream",
     "text": [
      "[18:09:28] WARNING: C:/Users/Administrator/workspace/xgboost-win64_release_1.3.0/src/learner.cc:1061: Starting in XGBoost 1.3.0, the default evaluation metric used with the objective 'multi:softprob' was changed from 'merror' to 'mlogloss'. Explicitly set eval_metric if you'd like to restore the old behavior.\n"
     ]
    },
    {
     "data": {
      "text/plain": [
       "XGBClassifier(base_score=0.5, booster='gbtree', colsample_bylevel=1,\n",
       "              colsample_bynode=1, colsample_bytree=1, gamma=0, gpu_id=-1,\n",
       "              importance_type='gain', interaction_constraints='',\n",
       "              learning_rate=0.300000012, max_delta_step=0, max_depth=6,\n",
       "              min_child_weight=1, missing=nan, monotone_constraints='()',\n",
       "              n_estimators=5, n_jobs=8, num_parallel_tree=1,\n",
       "              objective='multi:softprob', random_state=16, reg_alpha=0,\n",
       "              reg_lambda=1, scale_pos_weight=None, seed=16, subsample=1,\n",
       "              tree_method='exact', validate_parameters=1, verbosity=None)"
      ]
     },
     "execution_count": 8,
     "metadata": {},
     "output_type": "execute_result"
    }
   ],
   "source": [
    "xgb_cl.fit(X_train, y_train)"
   ]
  },
  {
   "cell_type": "markdown",
   "metadata": {},
   "source": [
    "# Evaluation"
   ]
  },
  {
   "cell_type": "code",
   "execution_count": 9,
   "metadata": {},
   "outputs": [
    {
     "name": "stdout",
     "output_type": "stream",
     "text": [
      "accuracy: 0.5268258913118726\n"
     ]
    }
   ],
   "source": [
    "preds = xgb_cl.predict(X_test)\n",
    "accuracy = float(np.sum(preds == y_test))/y_test.shape[0]\n",
    "\n",
    "print(f'accuracy: {accuracy}')"
   ]
  },
  {
   "cell_type": "code",
   "execution_count": 24,
   "metadata": {
    "scrolled": true
   },
   "outputs": [
    {
     "data": {
      "text/plain": [
       "0.20745323990626627"
      ]
     },
     "execution_count": 24,
     "metadata": {},
     "output_type": "execute_result"
    }
   ],
   "source": [
    "# Predictions in form of [0.2, 0.5, 0.3] in the order of draw, home win, away win.\n",
    "# This is because it gets ordered like 0, 1, 2.\n",
    "proba_preds = xgb_cl.predict_proba(X_test)\n",
    "\n",
    "# List of RPS scores for every game in the test set.\n",
    "rps_list = [rps(pred, y_test.iloc[i]) for i, pred in enumerate(proba_preds)]\n",
    "\n",
    "# Average ranked probability score.\n",
    "np.mean(rps_list)"
   ]
  },
  {
   "cell_type": "code",
   "execution_count": 12,
   "metadata": {},
   "outputs": [
    {
     "name": "stdout",
     "output_type": "stream",
     "text": [
      "accuracy on train set: 0.5905364022522968\n"
     ]
    }
   ],
   "source": [
    "# Looking at train set accuracy to get an intuition of how much the model overfits\n",
    "preds = xgb_cl.predict(X_train)\n",
    "accuracy = float(np.sum(preds == y_train))/y_train.shape[0]\n",
    "\n",
    "print(f'accuracy on train set: {accuracy}')"
   ]
  }
 ],
 "metadata": {
  "kernelspec": {
   "display_name": "Python 3",
   "language": "python",
   "name": "python3"
  },
  "language_info": {
   "codemirror_mode": {
    "name": "ipython",
    "version": 3
   },
   "file_extension": ".py",
   "mimetype": "text/x-python",
   "name": "python",
   "nbconvert_exporter": "python",
   "pygments_lexer": "ipython3",
   "version": "3.8.3"
  }
 },
 "nbformat": 4,
 "nbformat_minor": 4
}
