{
 "cells": [
  {
   "cell_type": "markdown",
   "metadata": {},
   "source": [
    "# Pipeline"
   ]
  },
  {
   "cell_type": "markdown",
   "metadata": {},
   "source": [
    "1. Preprocessing\n",
    "2. Data Extraction\n",
    "3. Data Exploration\n",
    "4. **Model**\n",
    "\n",
    "This file initializes the model and makes predictions too."
   ]
  },
  {
   "cell_type": "markdown",
   "metadata": {},
   "source": [
    "# Imports"
   ]
  },
  {
   "cell_type": "code",
   "execution_count": 254,
   "metadata": {},
   "outputs": [],
   "source": [
    "import pandas as pd\n",
    "import numpy as np\n",
    "import xgboost as xgb\n",
    "import seaborn as sns\n",
    "import matplotlib.pyplot as plt\n",
    "from sklearn.model_selection import train_test_split\n",
    "from sklearn.model_selection import GridSearchCV"
   ]
  },
  {
   "cell_type": "code",
   "execution_count": 422,
   "metadata": {},
   "outputs": [],
   "source": [
    "# Get feature dataframe from pickle file\n",
    "df = pd.read_pickle('feature_frame.pkl')"
   ]
  },
  {
   "cell_type": "code",
   "execution_count": 105,
   "metadata": {
    "scrolled": false
   },
   "outputs": [
    {
     "data": {
      "text/html": [
       "<div>\n",
       "<style scoped>\n",
       "    .dataframe tbody tr th:only-of-type {\n",
       "        vertical-align: middle;\n",
       "    }\n",
       "\n",
       "    .dataframe tbody tr th {\n",
       "        vertical-align: top;\n",
       "    }\n",
       "\n",
       "    .dataframe thead th {\n",
       "        text-align: right;\n",
       "    }\n",
       "</style>\n",
       "<table border=\"1\" class=\"dataframe\">\n",
       "  <thead>\n",
       "    <tr style=\"text-align: right;\">\n",
       "      <th></th>\n",
       "      <th>HomeID</th>\n",
       "      <th>AwayID</th>\n",
       "      <th>FTHG</th>\n",
       "      <th>FTAG</th>\n",
       "      <th>FTR</th>\n",
       "      <th>Date</th>\n",
       "      <th>H_WIN_PCT_home</th>\n",
       "      <th>H_DRAW_PCT_home</th>\n",
       "      <th>A_WIN_PCT_home</th>\n",
       "      <th>A_DRAW_PCT_home</th>\n",
       "      <th>...</th>\n",
       "      <th>REL_PTS_1_away</th>\n",
       "      <th>REL_PTS_2_away</th>\n",
       "      <th>REL_PTS_3_away</th>\n",
       "      <th>REL_PTS_4_away</th>\n",
       "      <th>REL_PTS_5_away</th>\n",
       "      <th>REL_PTS_N-0_away</th>\n",
       "      <th>REL_PTS_N-1_away</th>\n",
       "      <th>REL_PTS_N-2_away</th>\n",
       "      <th>REL_PTS_N-3_away</th>\n",
       "      <th>REL_PTS_N-4_away</th>\n",
       "    </tr>\n",
       "  </thead>\n",
       "  <tbody>\n",
       "    <tr>\n",
       "      <th>6173</th>\n",
       "      <td>50</td>\n",
       "      <td>53</td>\n",
       "      <td>8</td>\n",
       "      <td>1</td>\n",
       "      <td>1</td>\n",
       "      <td>2019-05-18</td>\n",
       "      <td>0.303030</td>\n",
       "      <td>0.393939</td>\n",
       "      <td>0.314286</td>\n",
       "      <td>0.257143</td>\n",
       "      <td>...</td>\n",
       "      <td>1.352941</td>\n",
       "      <td>1.294118</td>\n",
       "      <td>1.000000</td>\n",
       "      <td>0.764706</td>\n",
       "      <td>0.676471</td>\n",
       "      <td>-0.323529</td>\n",
       "      <td>-0.117647</td>\n",
       "      <td>0.000000</td>\n",
       "      <td>0.029412</td>\n",
       "      <td>0.117647</td>\n",
       "    </tr>\n",
       "    <tr>\n",
       "      <th>11820</th>\n",
       "      <td>111</td>\n",
       "      <td>100</td>\n",
       "      <td>1</td>\n",
       "      <td>1</td>\n",
       "      <td>0</td>\n",
       "      <td>2016-04-17</td>\n",
       "      <td>0.736842</td>\n",
       "      <td>0.157895</td>\n",
       "      <td>0.270270</td>\n",
       "      <td>0.297297</td>\n",
       "      <td>...</td>\n",
       "      <td>1.151515</td>\n",
       "      <td>1.151515</td>\n",
       "      <td>1.121212</td>\n",
       "      <td>0.723485</td>\n",
       "      <td>0.484848</td>\n",
       "      <td>-0.303030</td>\n",
       "      <td>-0.272727</td>\n",
       "      <td>-0.242424</td>\n",
       "      <td>-0.182765</td>\n",
       "      <td>-0.060606</td>\n",
       "    </tr>\n",
       "    <tr>\n",
       "      <th>8275</th>\n",
       "      <td>66</td>\n",
       "      <td>86</td>\n",
       "      <td>2</td>\n",
       "      <td>0</td>\n",
       "      <td>1</td>\n",
       "      <td>2016-01-24</td>\n",
       "      <td>0.487179</td>\n",
       "      <td>0.230769</td>\n",
       "      <td>0.486486</td>\n",
       "      <td>0.189189</td>\n",
       "      <td>...</td>\n",
       "      <td>0.961905</td>\n",
       "      <td>0.861905</td>\n",
       "      <td>0.761905</td>\n",
       "      <td>0.714286</td>\n",
       "      <td>0.511905</td>\n",
       "      <td>-0.476190</td>\n",
       "      <td>-0.388095</td>\n",
       "      <td>-0.188095</td>\n",
       "      <td>-0.138095</td>\n",
       "      <td>-0.088095</td>\n",
       "    </tr>\n",
       "    <tr>\n",
       "      <th>7238</th>\n",
       "      <td>81</td>\n",
       "      <td>77</td>\n",
       "      <td>2</td>\n",
       "      <td>0</td>\n",
       "      <td>1</td>\n",
       "      <td>2013-04-07</td>\n",
       "      <td>0.567568</td>\n",
       "      <td>0.297297</td>\n",
       "      <td>0.368421</td>\n",
       "      <td>0.315789</td>\n",
       "      <td>...</td>\n",
       "      <td>1.419355</td>\n",
       "      <td>1.129032</td>\n",
       "      <td>1.000000</td>\n",
       "      <td>0.806452</td>\n",
       "      <td>0.795699</td>\n",
       "      <td>-0.070968</td>\n",
       "      <td>0.000000</td>\n",
       "      <td>0.195699</td>\n",
       "      <td>0.295699</td>\n",
       "      <td>0.322581</td>\n",
       "    </tr>\n",
       "    <tr>\n",
       "      <th>10765</th>\n",
       "      <td>113</td>\n",
       "      <td>108</td>\n",
       "      <td>2</td>\n",
       "      <td>2</td>\n",
       "      <td>0</td>\n",
       "      <td>2013-09-14</td>\n",
       "      <td>0.368421</td>\n",
       "      <td>0.473684</td>\n",
       "      <td>0.250000</td>\n",
       "      <td>0.200000</td>\n",
       "      <td>...</td>\n",
       "      <td>0.500000</td>\n",
       "      <td>0.500000</td>\n",
       "      <td>0.000000</td>\n",
       "      <td>0.000000</td>\n",
       "      <td>-0.500000</td>\n",
       "      <td>-2.166667</td>\n",
       "      <td>-2.166667</td>\n",
       "      <td>-2.166667</td>\n",
       "      <td>-2.000000</td>\n",
       "      <td>-2.000000</td>\n",
       "    </tr>\n",
       "  </tbody>\n",
       "</table>\n",
       "<p>5 rows × 91 columns</p>\n",
       "</div>"
      ],
      "text/plain": [
       "       HomeID  AwayID  FTHG  FTAG  FTR        Date  H_WIN_PCT_home  \\\n",
       "6173       50      53     8     1    1  2019-05-18        0.303030   \n",
       "11820     111     100     1     1    0  2016-04-17        0.736842   \n",
       "8275       66      86     2     0    1  2016-01-24        0.487179   \n",
       "7238       81      77     2     0    1  2013-04-07        0.567568   \n",
       "10765     113     108     2     2    0  2013-09-14        0.368421   \n",
       "\n",
       "       H_DRAW_PCT_home  A_WIN_PCT_home  A_DRAW_PCT_home  ...  REL_PTS_1_away  \\\n",
       "6173          0.393939        0.314286         0.257143  ...        1.352941   \n",
       "11820         0.157895        0.270270         0.297297  ...        1.151515   \n",
       "8275          0.230769        0.486486         0.189189  ...        0.961905   \n",
       "7238          0.297297        0.368421         0.315789  ...        1.419355   \n",
       "10765         0.473684        0.250000         0.200000  ...        0.500000   \n",
       "\n",
       "       REL_PTS_2_away  REL_PTS_3_away  REL_PTS_4_away  REL_PTS_5_away  \\\n",
       "6173         1.294118        1.000000        0.764706        0.676471   \n",
       "11820        1.151515        1.121212        0.723485        0.484848   \n",
       "8275         0.861905        0.761905        0.714286        0.511905   \n",
       "7238         1.129032        1.000000        0.806452        0.795699   \n",
       "10765        0.500000        0.000000        0.000000       -0.500000   \n",
       "\n",
       "       REL_PTS_N-0_away  REL_PTS_N-1_away  REL_PTS_N-2_away  REL_PTS_N-3_away  \\\n",
       "6173          -0.323529         -0.117647          0.000000          0.029412   \n",
       "11820         -0.303030         -0.272727         -0.242424         -0.182765   \n",
       "8275          -0.476190         -0.388095         -0.188095         -0.138095   \n",
       "7238          -0.070968          0.000000          0.195699          0.295699   \n",
       "10765         -2.166667         -2.166667         -2.166667         -2.000000   \n",
       "\n",
       "       REL_PTS_N-4_away  \n",
       "6173           0.117647  \n",
       "11820         -0.060606  \n",
       "8275          -0.088095  \n",
       "7238           0.322581  \n",
       "10765         -2.000000  \n",
       "\n",
       "[5 rows x 91 columns]"
      ]
     },
     "execution_count": 105,
     "metadata": {},
     "output_type": "execute_result"
    }
   ],
   "source": [
    "df.sample(5)"
   ]
  },
  {
   "cell_type": "markdown",
   "metadata": {},
   "source": [
    "# Extracting target variables and features"
   ]
  },
  {
   "cell_type": "markdown",
   "metadata": {},
   "source": [
    "# _WICHTIG: Das hier muss auf neue columns angepasst werden (z.B. season)_"
   ]
  },
  {
   "cell_type": "code",
   "execution_count": 517,
   "metadata": {},
   "outputs": [],
   "source": [
    "# If True, the goal difference for a specific game is seen as the target variable.\n",
    "# (e.g. -3 for a game outcome of 1:4, or 2 for 3:1) .\n",
    "\n",
    "# If False, we just want to predict the winner.\n",
    "# 1 = Home team wins, 0 = Draw, 2 = Away team wins\n",
    "predict_goal_difference = False\n",
    "\n",
    "if predict_goal_difference:\n",
    "    y = df['FTHG'] - df['FTAG']\n",
    "else:\n",
    "    y = df['FTR']\n",
    "    \n",
    "# Remove unnecessary columns (IDs etc.) from features\n",
    "X = df.iloc[:,6:].drop(['season', 'GAME_CNT_AFTER_GAME_home', 'GAME_CNT_AFTER_GAME_away', 'league', 'PTS_AFTER_GAME_home', 'PTS_AFTER_GAME_away'], axis=1)    \n",
    "#X = df[['EGD', 'H_RTG_home', 'H_RTG_away', 'A_RTG_home', 'A_RTG_away']]\n",
    "#X['FTR'] = df['FTR']"
   ]
  },
  {
   "cell_type": "code",
   "execution_count": null,
   "metadata": {
    "scrolled": true
   },
   "outputs": [],
   "source": [
    "df.iloc[:,6:].drop(['season', 'GAME_CNT_AFTER_GAME_home', 'GAME_CNT_AFTER_GAME_away'], axis=1).columns"
   ]
  },
  {
   "cell_type": "markdown",
   "metadata": {},
   "source": [
    "# Ranked Probability Score (RPS)"
   ]
  },
  {
   "cell_type": "code",
   "execution_count": 128,
   "metadata": {},
   "outputs": [],
   "source": [
    "def rps(pred, actual_value, r=3):\n",
    "    '''Returns the ranked probability score for a single given game.\n",
    "    (see Hubacek paper for formula)\n",
    "    \n",
    "    Arguments:\n",
    "    pred -- predicted results; in vector form (e.g. [0.1, 0.6, 0.3])\n",
    "    actual_value -- actual result (0, 1 or 2); not in vector form yet\n",
    "    r -- number of categories (3 for football)\n",
    "    '''\n",
    "    value_vec = [0, 0, 0]\n",
    "    \n",
    "    # Bring value_vec into 1, 0, 2 order\n",
    "    if actual_value == 0:\n",
    "        value_vec[1] = 1\n",
    "    elif actual_value == 2:\n",
    "        value_vec[2] = 1\n",
    "    elif actual_value == 1:\n",
    "        value_vec[0] = 1\n",
    "    else:\n",
    "        print(actual_value)\n",
    "        raise Exception('Prediction was not in [1, 0, 2].')\n",
    "    #value_vec = [0, 0, 1]\n",
    "    \n",
    "    #print(pred)\n",
    "    #print(\"pred:\", pred, \"vec:\", value_vec, \"actualval:\", actual_value)\n",
    "    pred[0], pred[1], pred[2] = pred[1], pred[0], pred[2]   # order: loss, draw, win\n",
    "    #print(\"pred:\", pred, \"vec:\", value_vec, \"actualval:\", actual_value)\n",
    "    \n",
    "    rps = 0\n",
    "    \n",
    "    for i in range(0, r-1):\n",
    "        inner_sum = 0\n",
    "        for j in range(0, i+1):\n",
    "            inner_sum += (pred[j] - value_vec[j])\n",
    "        rps += np.square(inner_sum)\n",
    "    \n",
    "    rps /= (r-1)\n",
    "    \n",
    "    return rps\n",
    "\n",
    "\n",
    "# To be used as eval_metric parameter\n",
    "def rps_eval_metric(y_true, y_pred):\n",
    "    return rps(y_pred, y_true)"
   ]
  },
  {
   "cell_type": "markdown",
   "metadata": {},
   "source": [
    "# Model fit"
   ]
  },
  {
   "cell_type": "code",
   "execution_count": 424,
   "metadata": {},
   "outputs": [],
   "source": [
    "list_test_accu = []\n",
    "list_train_accu = []\n",
    "list_rs = []"
   ]
  },
  {
   "cell_type": "markdown",
   "metadata": {},
   "source": [
    "## Find best value for *n_estimators*"
   ]
  },
  {
   "cell_type": "code",
   "execution_count": null,
   "metadata": {
    "scrolled": true
   },
   "outputs": [],
   "source": [
    "# We start with n_estimators=50...\n",
    "xgb_cl = xgb.XGBClassifier(objective='multi:softprob', n_estimators=50, seed=16)\n",
    "# ...and then validate it to find the lowest loss.\n",
    "op = xgb_cl.fit(X_train, y_train, early_stopping_rounds=900, eval_metric='mlogloss', eval_set=[(X_test, y_test)])"
   ]
  },
  {
   "cell_type": "code",
   "execution_count": null,
   "metadata": {},
   "outputs": [],
   "source": [
    "learning_rates = [0.2, 0.3, 0.4]\n",
    "n_estimators = [8, 16, 32]\n",
    "subsamples = [0.6, 0.8, 0.9, 1]\n",
    "colsample_bytree = [0.5, 0.75, 0.9, 1]\n",
    "max_depth = [3, 6, 8, 12]\n",
    "param_grid = dict(n_estimators=n_estimators, learning_rate=learning_rates, subsample=subsamples, colsample_bytree=colsample_bytree, max_depth=max_depth)"
   ]
  },
  {
   "cell_type": "code",
   "execution_count": null,
   "metadata": {},
   "outputs": [],
   "source": [
    "from sklearn.model_selection import KFold\n",
    "from sklearn.model_selection import cross_val_score"
   ]
  },
  {
   "cell_type": "code",
   "execution_count": null,
   "metadata": {},
   "outputs": [],
   "source": [
    "grid = GridSearchCV(estimator=xgb_cl, param_grid=param_grid, n_jobs=8, cv=3)\n",
    "grid_result = grid.fit(X, y)\n",
    "\n",
    "print(\"Best: %f using %s\" % (grid_result.best_score_, grid_result.best_params_))"
   ]
  },
  {
   "cell_type": "markdown",
   "metadata": {},
   "source": [
    "## Use best parameters to fit the model"
   ]
  },
  {
   "cell_type": "code",
   "execution_count": 519,
   "metadata": {},
   "outputs": [],
   "source": [
    "# Apparently the random states are pretty important. 21 works very well on RPS and test accuracy, 16 only on accuracy.\n",
    "#X_train, X_test, y_train, y_test = train_test_split(X, y, test_size=0.3, random_state=543)\n",
    "X_train, X_test, y_train, y_test = train_test_split(X, y, test_size=0.3)"
   ]
  },
  {
   "cell_type": "code",
   "execution_count": 520,
   "metadata": {},
   "outputs": [],
   "source": [
    "# n_estimators=8 had the lowest loss, so we overwrite the previous model.b\n",
    "#xgb_cl = xgb.XGBClassifier(objective='multi:softprob', n_estimators=64, seed=16, learning_rate=0.2, subsample=1, colsample_bytree=0.6, max_depth=4)\n",
    "xgb_cl = xgb.XGBClassifier(objective='multi:softprob', n_estimators=64, learning_rate=0.2, subsample=1, colsample_bytree=0.6, max_depth=4)"
   ]
  },
  {
   "cell_type": "code",
   "execution_count": 521,
   "metadata": {},
   "outputs": [
    {
     "name": "stdout",
     "output_type": "stream",
     "text": [
      "[21:20:16] WARNING: C:/Users/Administrator/workspace/xgboost-win64_release_1.3.0/src/learner.cc:1061: Starting in XGBoost 1.3.0, the default evaluation metric used with the objective 'multi:softprob' was changed from 'merror' to 'mlogloss'. Explicitly set eval_metric if you'd like to restore the old behavior.\n"
     ]
    },
    {
     "data": {
      "text/plain": [
       "XGBClassifier(base_score=0.5, booster='gbtree', colsample_bylevel=1,\n",
       "              colsample_bynode=1, colsample_bytree=0.6, gamma=0, gpu_id=-1,\n",
       "              importance_type='gain', interaction_constraints='',\n",
       "              learning_rate=0.2, max_delta_step=0, max_depth=4,\n",
       "              min_child_weight=1, missing=nan, monotone_constraints='()',\n",
       "              n_estimators=64, n_jobs=8, num_parallel_tree=1,\n",
       "              objective='multi:softprob', random_state=0, reg_alpha=0,\n",
       "              reg_lambda=1, scale_pos_weight=None, subsample=1,\n",
       "              tree_method='exact', validate_parameters=1, verbosity=None)"
      ]
     },
     "execution_count": 521,
     "metadata": {},
     "output_type": "execute_result"
    }
   ],
   "source": [
    "xgb_cl.fit(X_train, y_train)"
   ]
  },
  {
   "cell_type": "markdown",
   "metadata": {},
   "source": [
    "# Evaluation"
   ]
  },
  {
   "cell_type": "code",
   "execution_count": 522,
   "metadata": {},
   "outputs": [
    {
     "name": "stdout",
     "output_type": "stream",
     "text": [
      "accuracy: 0.5888831967213115\n"
     ]
    }
   ],
   "source": [
    "preds = xgb_cl.predict(X_test)\n",
    "accuracy = float(np.sum(preds == y_test))/y_test.shape[0]\n",
    "\n",
    "print(f'accuracy: {accuracy}')\n",
    "list_test_accu.append(accuracy)"
   ]
  },
  {
   "cell_type": "code",
   "execution_count": 523,
   "metadata": {},
   "outputs": [
    {
     "name": "stdout",
     "output_type": "stream",
     "text": [
      "accuracy on train set: 0.70344751866491\n"
     ]
    }
   ],
   "source": [
    "# Looking at train set accuracy to get an intuition of how much the model overfits\n",
    "preds = xgb_cl.predict(X_train)\n",
    "accuracy = float(np.sum(preds == y_train))/y_train.shape[0]\n",
    "\n",
    "print(f'accuracy on train set: {accuracy}')\n",
    "list_train_accu.append(accuracy)"
   ]
  },
  {
   "cell_type": "code",
   "execution_count": 524,
   "metadata": {
    "scrolled": true
   },
   "outputs": [
    {
     "name": "stdout",
     "output_type": "stream",
     "text": [
      "0.17159769359114313\n"
     ]
    }
   ],
   "source": [
    "# Predictions in form of [0.2, 0.5, 0.3] in the order of draw, home win, away win.\n",
    "# This is because it gets ordered like 0, 1, 2.\n",
    "proba_preds = xgb_cl.predict_proba(X_test)\n",
    "\n",
    "# List of RPS scores for every game in the test set.\n",
    "# Important to use iloc for y_test, otherwise indices would be wrong\n",
    "rps_list = [rps(pred, y_test.iloc[i]) for i, pred in enumerate(proba_preds)]\n",
    "\n",
    "#proba_preds\n",
    "\n",
    "#rps(proba_preds[0], y_test.iloc[0])\n",
    "\n",
    "# Average ranked probability score.\n",
    "print(np.mean(rps_list))\n",
    "list_rs.append(np.mean(rps_list))"
   ]
  },
  {
   "cell_type": "code",
   "execution_count": 516,
   "metadata": {},
   "outputs": [
    {
     "name": "stdout",
     "output_type": "stream",
     "text": [
      "0.45156841109709955\n",
      "0.50693388736867\n",
      "0.2299552328265032\n"
     ]
    }
   ],
   "source": [
    "#print(list_test_accu)\n",
    "#print(list_train_accu)\n",
    "#print(list_rs)\n",
    "print(np.mean(list_test_accu))\n",
    "print(np.mean(list_train_accu))\n",
    "print(np.mean(list_rs))"
   ]
  },
  {
   "cell_type": "code",
   "execution_count": 19,
   "metadata": {
    "scrolled": false
   },
   "outputs": [
    {
     "data": {
      "text/plain": [
       "0.22572732173924184"
      ]
     },
     "execution_count": 19,
     "metadata": {},
     "output_type": "execute_result"
    }
   ],
   "source": [
    "# league priors -> rps (DO NOT RUN AGAIN)\n",
    "r_list = []\n",
    "for i in range(len(X_test.index)):\n",
    "    league = X_test.iloc[i]['league']\n",
    "    prob_vector = []\n",
    "    if league == 'D1':\n",
    "        prob_vector = [0.2422, 0.4582, 0.2996]\n",
    "    elif league == 'E1':\n",
    "        prob_vector = [0.2468, 0.4576, 0.2956]\n",
    "    elif league == 'I1':\n",
    "        prob_vector = [0.2575, 0.4538, 0.2888]\n",
    "    elif league == 'SP1':\n",
    "        prob_vector = [0.2371, 0.4781, 0.2848]\n",
    "    \n",
    "    r_list.append(rps(prob_vector, y_test.iloc[i]))\n",
    "    \n",
    "np.mean(r_list)"
   ]
  },
  {
   "cell_type": "code",
   "execution_count": 51,
   "metadata": {},
   "outputs": [
    {
     "data": {
      "text/plain": [
       "0.22946942640115262"
      ]
     },
     "execution_count": 51,
     "metadata": {},
     "output_type": "execute_result"
    }
   ],
   "source": [
    "# global priors -> rps\n",
    "r_list = []\n",
    "for i in range(len(y_test.index)):\n",
    "    r_list.append(rps([0.2921845, 0.46192225, 0.24589325], y_test.iloc[i]))\n",
    "np.mean(r_list)"
   ]
  },
  {
   "cell_type": "markdown",
   "metadata": {},
   "source": [
    "## Feature importances"
   ]
  },
  {
   "cell_type": "code",
   "execution_count": 241,
   "metadata": {
    "scrolled": false
   },
   "outputs": [
    {
     "name": "stdout",
     "output_type": "stream",
     "text": [
      "('H_WIN_PCT_home', 0.009969974)\n",
      "('H_DRAW_PCT_home', 0.0083714025)\n",
      "('A_WIN_PCT_home', 0.009886505)\n",
      "('A_DRAW_PCT_home', 0.0057212007)\n",
      "('H_WIN_PCT_away', 0.010039404)\n",
      "('H_DRAW_PCT_away', 0.007570091)\n",
      "('A_WIN_PCT_away', 0.0078016887)\n",
      "('A_DRAW_PCT_away', 0.0074010757)\n",
      "('H_GS_AVG_home', 0.008804651)\n",
      "('H_GC_AVG_home', 0.008095864)\n",
      "('A_GS_AVG_home', 0.0082171)\n",
      "('A_GC_AVG_home', 0.007244578)\n",
      "('H_GS_AVG_away', 0.009246362)\n",
      "('H_GC_AVG_away', 0.007799683)\n",
      "('A_GS_AVG_away', 0.008065052)\n",
      "('A_GC_AVG_away', 0.007243647)\n",
      "('H_GS_STD_home', 0.005962068)\n",
      "('H_GC_STD_home', 0.0067847776)\n",
      "('A_GS_STD_home', 0.008046839)\n",
      "('A_GC_STD_home', 0.008102134)\n",
      "('H_GS_STD_away', 0.009563463)\n",
      "('H_GC_STD_away', 0.006416428)\n",
      "('A_GS_STD_away', 0.00849723)\n",
      "('A_GC_STD_away', 0.007552533)\n",
      "('WIN_PCT_home', 0.013577162)\n",
      "('WIN_PCT_away', 0.013541383)\n",
      "('DRAW_PCT_home', 0.008114115)\n",
      "('DRAW_PCT_away', 0.0)\n",
      "('GS_AVG_home', 0.0068756)\n",
      "('GC_AVG_home', 0.0073862933)\n",
      "('GS_AVG_away', 0.0085540535)\n",
      "('GC_AVG_away', 0.007860765)\n",
      "('GS_STD_home', 0.0068518934)\n",
      "('GC_STD_home', 0.0067972257)\n",
      "('GS_STD_away', 0.0062935827)\n",
      "('GC_STD_away', 0.00629092)\n",
      "('REST_home', 0.0061019287)\n",
      "('REST_away', 0.0071474956)\n",
      "('H_GS_AVG_league', 0.007395804)\n",
      "('A_GS_AVG_league', 0.007009125)\n",
      "('H_GS_STD_league', 0.007634989)\n",
      "('A_GS_STD_league', 0.008346386)\n",
      "('H_WIN_PCT_league', 0.007077679)\n",
      "('DRAW_PCT_league', 0.0075675473)\n",
      "('TEAM_CNT_league', 0.010705562)\n",
      "('GD_STD_league', 0.0071009267)\n",
      "('RND_CNT_league', 0.0)\n",
      "('H_RTG_home', 0.0072648646)\n",
      "('A_RTG_home', 0.008201628)\n",
      "('H_RTG_away', 0.007032731)\n",
      "('A_RTG_away', 0.00883505)\n",
      "('EGD', 0.0064569204)\n",
      "('RED_home', 0.006760753)\n",
      "('RED_away', 0.0077337488)\n",
      "('H_ST_home', 0.008480224)\n",
      "('A_ST_home', 0.008783114)\n",
      "('H_ST_away', 0.008989812)\n",
      "('A_ST_away', 0.010652875)\n",
      "('RND', 0.010558592)\n",
      "('REL_PTS_1_home', 0.02285254)\n",
      "('REL_PTS_2_home', 0.01977952)\n",
      "('REL_PTS_3_home', 0.013671477)\n",
      "('REL_PTS_4_home', 0.013184075)\n",
      "('REL_PTS_5_home', 0.029538753)\n",
      "('REL_PTS_N-0_home', 0.017576875)\n",
      "('REL_PTS_N-1_home', 0.023002863)\n",
      "('REL_PTS_N-2_home', 0.031478662)\n",
      "('REL_PTS_N-3_home', 0.05962907)\n",
      "('REL_PTS_N-4_home', 0.049325276)\n",
      "('REL_PTS_1_away', 0.015450627)\n",
      "('REL_PTS_2_away', 0.009478205)\n",
      "('REL_PTS_3_away', 0.014733536)\n",
      "('REL_PTS_4_away', 0.016353982)\n",
      "('REL_PTS_5_away', 0.025563288)\n",
      "('REL_PTS_N-0_away', 0.022463443)\n",
      "('REL_PTS_N-1_away', 0.024052944)\n",
      "('REL_PTS_N-2_away', 0.05895891)\n",
      "('REL_PTS_N-3_away', 0.04683555)\n",
      "('REL_PTS_N-4_away', 0.025685795)\n"
     ]
    }
   ],
   "source": [
    "for k in zip(X.columns, xgb_cl.feature_importances_):\n",
    "    print(k)"
   ]
  },
  {
   "cell_type": "code",
   "execution_count": 242,
   "metadata": {},
   "outputs": [],
   "source": [
    "fbuckets = []\n",
    "for i in range(len(xgb_cl.feature_importances_)):\n",
    "    if i < 24:\n",
    "        fbuckets.append('Historical strength')\n",
    "    elif 24 <= i < 38:\n",
    "        fbuckets.append('Current form')\n",
    "    elif 38 <= i < 47:\n",
    "        fbuckets.append('League')\n",
    "    elif 47 <= i < 52:\n",
    "        fbuckets.append('Pi-ratings')\n",
    "    elif 52 <= i < 54:\n",
    "        fbuckets.append('Current form')\n",
    "    elif 54 <= i < 58:\n",
    "        fbuckets.append('Historical strength')\n",
    "    elif i >= 58:\n",
    "        fbuckets.append('Match importance')\n",
    "    else:\n",
    "        fbuckets.append('unknown')"
   ]
  },
  {
   "cell_type": "code",
   "execution_count": 243,
   "metadata": {
    "scrolled": false
   },
   "outputs": [
    {
     "name": "stdout",
     "output_type": "stream",
     "text": [
      "('H_WIN_PCT_home', 0.009969974, 'Historical strength')\n",
      "('H_DRAW_PCT_home', 0.0083714025, 'Historical strength')\n",
      "('A_WIN_PCT_home', 0.009886505, 'Historical strength')\n",
      "('A_DRAW_PCT_home', 0.0057212007, 'Historical strength')\n",
      "('H_WIN_PCT_away', 0.010039404, 'Historical strength')\n",
      "('H_DRAW_PCT_away', 0.007570091, 'Historical strength')\n",
      "('A_WIN_PCT_away', 0.0078016887, 'Historical strength')\n",
      "('A_DRAW_PCT_away', 0.0074010757, 'Historical strength')\n",
      "('H_GS_AVG_home', 0.008804651, 'Historical strength')\n",
      "('H_GC_AVG_home', 0.008095864, 'Historical strength')\n",
      "('A_GS_AVG_home', 0.0082171, 'Historical strength')\n",
      "('A_GC_AVG_home', 0.007244578, 'Historical strength')\n",
      "('H_GS_AVG_away', 0.009246362, 'Historical strength')\n",
      "('H_GC_AVG_away', 0.007799683, 'Historical strength')\n",
      "('A_GS_AVG_away', 0.008065052, 'Historical strength')\n",
      "('A_GC_AVG_away', 0.007243647, 'Historical strength')\n",
      "('H_GS_STD_home', 0.005962068, 'Historical strength')\n",
      "('H_GC_STD_home', 0.0067847776, 'Historical strength')\n",
      "('A_GS_STD_home', 0.008046839, 'Historical strength')\n",
      "('A_GC_STD_home', 0.008102134, 'Historical strength')\n",
      "('H_GS_STD_away', 0.009563463, 'Historical strength')\n",
      "('H_GC_STD_away', 0.006416428, 'Historical strength')\n",
      "('A_GS_STD_away', 0.00849723, 'Historical strength')\n",
      "('A_GC_STD_away', 0.007552533, 'Historical strength')\n",
      "('WIN_PCT_home', 0.013577162, 'Current form')\n",
      "('WIN_PCT_away', 0.013541383, 'Current form')\n",
      "('DRAW_PCT_home', 0.008114115, 'Current form')\n",
      "('DRAW_PCT_away', 0.0, 'Current form')\n",
      "('GS_AVG_home', 0.0068756, 'Current form')\n",
      "('GC_AVG_home', 0.0073862933, 'Current form')\n",
      "('GS_AVG_away', 0.0085540535, 'Current form')\n",
      "('GC_AVG_away', 0.007860765, 'Current form')\n",
      "('GS_STD_home', 0.0068518934, 'Current form')\n",
      "('GC_STD_home', 0.0067972257, 'Current form')\n",
      "('GS_STD_away', 0.0062935827, 'Current form')\n",
      "('GC_STD_away', 0.00629092, 'Current form')\n",
      "('REST_home', 0.0061019287, 'Current form')\n",
      "('REST_away', 0.0071474956, 'Current form')\n",
      "('H_GS_AVG_league', 0.007395804, 'League')\n",
      "('A_GS_AVG_league', 0.007009125, 'League')\n",
      "('H_GS_STD_league', 0.007634989, 'League')\n",
      "('A_GS_STD_league', 0.008346386, 'League')\n",
      "('H_WIN_PCT_league', 0.007077679, 'League')\n",
      "('DRAW_PCT_league', 0.0075675473, 'League')\n",
      "('TEAM_CNT_league', 0.010705562, 'League')\n",
      "('GD_STD_league', 0.0071009267, 'League')\n",
      "('RND_CNT_league', 0.0, 'League')\n",
      "('H_RTG_home', 0.0072648646, 'Pi-ratings')\n",
      "('A_RTG_home', 0.008201628, 'Pi-ratings')\n",
      "('H_RTG_away', 0.007032731, 'Pi-ratings')\n",
      "('A_RTG_away', 0.00883505, 'Pi-ratings')\n",
      "('EGD', 0.0064569204, 'Pi-ratings')\n",
      "('RED_home', 0.006760753, 'Current form')\n",
      "('RED_away', 0.0077337488, 'Current form')\n",
      "('H_ST_home', 0.008480224, 'Historical strength')\n",
      "('A_ST_home', 0.008783114, 'Historical strength')\n",
      "('H_ST_away', 0.008989812, 'Historical strength')\n",
      "('A_ST_away', 0.010652875, 'Historical strength')\n",
      "('RND', 0.010558592, 'Match importance')\n",
      "('REL_PTS_1_home', 0.02285254, 'Match importance')\n",
      "('REL_PTS_2_home', 0.01977952, 'Match importance')\n",
      "('REL_PTS_3_home', 0.013671477, 'Match importance')\n",
      "('REL_PTS_4_home', 0.013184075, 'Match importance')\n",
      "('REL_PTS_5_home', 0.029538753, 'Match importance')\n",
      "('REL_PTS_N-0_home', 0.017576875, 'Match importance')\n",
      "('REL_PTS_N-1_home', 0.023002863, 'Match importance')\n",
      "('REL_PTS_N-2_home', 0.031478662, 'Match importance')\n",
      "('REL_PTS_N-3_home', 0.05962907, 'Match importance')\n",
      "('REL_PTS_N-4_home', 0.049325276, 'Match importance')\n",
      "('REL_PTS_1_away', 0.015450627, 'Match importance')\n",
      "('REL_PTS_2_away', 0.009478205, 'Match importance')\n",
      "('REL_PTS_3_away', 0.014733536, 'Match importance')\n",
      "('REL_PTS_4_away', 0.016353982, 'Match importance')\n",
      "('REL_PTS_5_away', 0.025563288, 'Match importance')\n",
      "('REL_PTS_N-0_away', 0.022463443, 'Match importance')\n",
      "('REL_PTS_N-1_away', 0.024052944, 'Match importance')\n",
      "('REL_PTS_N-2_away', 0.05895891, 'Match importance')\n",
      "('REL_PTS_N-3_away', 0.04683555, 'Match importance')\n",
      "('REL_PTS_N-4_away', 0.025685795, 'Match importance')\n"
     ]
    }
   ],
   "source": [
    "for k in zip(X.columns, xgb_cl.feature_importances_, fbuckets):\n",
    "    print(k)"
   ]
  },
  {
   "cell_type": "code",
   "execution_count": 244,
   "metadata": {},
   "outputs": [],
   "source": [
    "from collections import defaultdict\n",
    "f_impor_perbucket = defaultdict(lambda: 0)\n",
    "for k in zip(xgb_cl.feature_importances_, fbuckets):\n",
    "    f_impor_perbucket[k[1]] += k[0]"
   ]
  },
  {
   "cell_type": "code",
   "execution_count": 245,
   "metadata": {},
   "outputs": [
    {
     "data": {
      "text/plain": [
       "{'Historical strength': 0.22930977679789066,\n",
       " 'Current form': 0.11988692032173276,\n",
       " 'League': 0.0628380193375051,\n",
       " 'Pi-ratings': 0.03779119439423084,\n",
       " 'Match importance': 0.5501739839091897}"
      ]
     },
     "execution_count": 245,
     "metadata": {},
     "output_type": "execute_result"
    }
   ],
   "source": [
    "dict(f_impor_perbucket)"
   ]
  },
  {
   "cell_type": "code",
   "execution_count": 300,
   "metadata": {},
   "outputs": [
    {
     "data": {
      "image/png": "[encoded data removed]",
      "text/plain": [
       "<Figure size 1008x432 with 1 Axes>"
      ]
     },
     "metadata": {},
     "output_type": "display_data"
    }
   ],
   "source": [
    "#keys = list(f_impor_perbucket.keys())\n",
    "keys = ['Match importance', 'Historical strength', 'Current form', 'League', 'Pi-ratings']\n",
    "vals = [float(f_impor_perbucket[k]) for k in keys]\n",
    "sns.set_theme()\n",
    "sns.set(font_scale=1.5)\n",
    "plt.figure(figsize=(14,6))\n",
    "ax = sns.barplot(x=keys, y=vals, alpha=.85, color='blue')\n",
    "plt.xlabel(\"Feature group\")\n",
    "plt.ylabel(\"Relative feature importance\")\n",
    "plt.savefig(\"graphic_files/feature_importance.pdf\", format='pdf', dpi=500, bbox_inches='tight')"
   ]
  }
 ],
 "metadata": {
  "kernelspec": {
   "display_name": "Python 3",
   "language": "python",
   "name": "python3"
  },
  "language_info": {
   "codemirror_mode": {
    "name": "ipython",
    "version": 3
   },
   "file_extension": ".py",
   "mimetype": "text/x-python",
   "name": "python",
   "nbconvert_exporter": "python",
   "pygments_lexer": "ipython3",
   "version": "3.8.3"
  }
 },
 "nbformat": 4,
 "nbformat_minor": 4
}
