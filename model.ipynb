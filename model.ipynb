{
 "cells": [
  {
   "cell_type": "markdown",
   "metadata": {},
   "source": [
    "# Pipeline"
   ]
  },
  {
   "cell_type": "markdown",
   "metadata": {},
   "source": [
    "1. Preprocessing\n",
    "2. Data Extraction\n",
    "3. Data Exploration\n",
    "4. **Model**\n",
    "\n",
    "This file initializes the model and makes predictions too."
   ]
  },
  {
   "cell_type": "markdown",
   "metadata": {},
   "source": [
    "# Imports"
   ]
  },
  {
   "cell_type": "code",
   "execution_count": null,
   "metadata": {},
   "outputs": [],
   "source": [
    "import pandas as pd\n",
    "import numpy as np\n",
    "import xgboost as xgb\n",
    "from sklearn.model_selection import train_test_split\n",
    "from sklearn.model_selection import GridSearchCV"
   ]
  },
  {
   "cell_type": "code",
   "execution_count": null,
   "metadata": {},
   "outputs": [],
   "source": [
    "# Get feature dataframe from pickle file\n",
    "df = pd.read_pickle('feature_frame.pkl')"
   ]
  },
  {
   "cell_type": "code",
   "execution_count": 12,
   "metadata": {
    "scrolled": false
   },
   "outputs": [
    {
     "data": {
      "text/html": [
       "<div>\n",
       "<style scoped>\n",
       "    .dataframe tbody tr th:only-of-type {\n",
       "        vertical-align: middle;\n",
       "    }\n",
       "\n",
       "    .dataframe tbody tr th {\n",
       "        vertical-align: top;\n",
       "    }\n",
       "\n",
       "    .dataframe thead th {\n",
       "        text-align: right;\n",
       "    }\n",
       "</style>\n",
       "<table border=\"1\" class=\"dataframe\">\n",
       "  <thead>\n",
       "    <tr style=\"text-align: right;\">\n",
       "      <th></th>\n",
       "      <th>HomeID</th>\n",
       "      <th>AwayID</th>\n",
       "      <th>FTHG</th>\n",
       "      <th>FTAG</th>\n",
       "      <th>FTR</th>\n",
       "      <th>Date</th>\n",
       "      <th>H_WIN_PCT_home</th>\n",
       "      <th>H_DRAW_PCT_home</th>\n",
       "      <th>A_WIN_PCT_home</th>\n",
       "      <th>A_DRAW_PCT_home</th>\n",
       "      <th>...</th>\n",
       "      <th>REL_PTS_1_away</th>\n",
       "      <th>REL_PTS_2_away</th>\n",
       "      <th>REL_PTS_3_away</th>\n",
       "      <th>REL_PTS_4_away</th>\n",
       "      <th>REL_PTS_5_away</th>\n",
       "      <th>REL_PTS_N-0_away</th>\n",
       "      <th>REL_PTS_N-1_away</th>\n",
       "      <th>REL_PTS_N-2_away</th>\n",
       "      <th>REL_PTS_N-3_away</th>\n",
       "      <th>REL_PTS_N-4_away</th>\n",
       "    </tr>\n",
       "  </thead>\n",
       "  <tbody>\n",
       "    <tr>\n",
       "      <th>1889</th>\n",
       "      <td>10</td>\n",
       "      <td>4</td>\n",
       "      <td>0</td>\n",
       "      <td>0</td>\n",
       "      <td>0</td>\n",
       "      <td>2015-05-20</td>\n",
       "      <td>0.666667</td>\n",
       "      <td>0.250000</td>\n",
       "      <td>0.552632</td>\n",
       "      <td>0.157895</td>\n",
       "      <td>...</td>\n",
       "      <td>1.243243</td>\n",
       "      <td>1.027027</td>\n",
       "      <td>0.918919</td>\n",
       "      <td>0.837838</td>\n",
       "      <td>0.648649</td>\n",
       "      <td>-0.216216</td>\n",
       "      <td>-0.108108</td>\n",
       "      <td>-0.054054</td>\n",
       "      <td>0.000000</td>\n",
       "      <td>0.000000</td>\n",
       "    </tr>\n",
       "    <tr>\n",
       "      <th>6121</th>\n",
       "      <td>42</td>\n",
       "      <td>43</td>\n",
       "      <td>2</td>\n",
       "      <td>1</td>\n",
       "      <td>1</td>\n",
       "      <td>2019-04-13</td>\n",
       "      <td>0.685714</td>\n",
       "      <td>0.200000</td>\n",
       "      <td>0.424242</td>\n",
       "      <td>0.333333</td>\n",
       "      <td>...</td>\n",
       "      <td>1.147783</td>\n",
       "      <td>1.137931</td>\n",
       "      <td>0.826355</td>\n",
       "      <td>0.719212</td>\n",
       "      <td>0.576355</td>\n",
       "      <td>-0.517241</td>\n",
       "      <td>-0.387931</td>\n",
       "      <td>-0.245074</td>\n",
       "      <td>-0.206897</td>\n",
       "      <td>0.000000</td>\n",
       "    </tr>\n",
       "    <tr>\n",
       "      <th>11171</th>\n",
       "      <td>104</td>\n",
       "      <td>109</td>\n",
       "      <td>1</td>\n",
       "      <td>1</td>\n",
       "      <td>0</td>\n",
       "      <td>2014-09-28</td>\n",
       "      <td>0.526316</td>\n",
       "      <td>0.289474</td>\n",
       "      <td>0.342105</td>\n",
       "      <td>0.342105</td>\n",
       "      <td>...</td>\n",
       "      <td>0.333333</td>\n",
       "      <td>0.000000</td>\n",
       "      <td>0.000000</td>\n",
       "      <td>-0.166667</td>\n",
       "      <td>-0.333333</td>\n",
       "      <td>-1.666667</td>\n",
       "      <td>-1.666667</td>\n",
       "      <td>-1.666667</td>\n",
       "      <td>-1.666667</td>\n",
       "      <td>-1.500000</td>\n",
       "    </tr>\n",
       "    <tr>\n",
       "      <th>12328</th>\n",
       "      <td>122</td>\n",
       "      <td>100</td>\n",
       "      <td>0</td>\n",
       "      <td>0</td>\n",
       "      <td>0</td>\n",
       "      <td>2017-10-15</td>\n",
       "      <td>0.473684</td>\n",
       "      <td>0.184211</td>\n",
       "      <td>0.184211</td>\n",
       "      <td>0.236842</td>\n",
       "      <td>...</td>\n",
       "      <td>1.750000</td>\n",
       "      <td>1.250000</td>\n",
       "      <td>1.125000</td>\n",
       "      <td>1.000000</td>\n",
       "      <td>1.000000</td>\n",
       "      <td>-0.625000</td>\n",
       "      <td>-0.142857</td>\n",
       "      <td>-0.142857</td>\n",
       "      <td>-0.125000</td>\n",
       "      <td>0.000000</td>\n",
       "    </tr>\n",
       "    <tr>\n",
       "      <th>4157</th>\n",
       "      <td>49</td>\n",
       "      <td>51</td>\n",
       "      <td>1</td>\n",
       "      <td>4</td>\n",
       "      <td>2</td>\n",
       "      <td>2012-11-28</td>\n",
       "      <td>0.424242</td>\n",
       "      <td>0.303030</td>\n",
       "      <td>0.205882</td>\n",
       "      <td>0.294118</td>\n",
       "      <td>...</td>\n",
       "      <td>0.714286</td>\n",
       "      <td>0.000000</td>\n",
       "      <td>-0.071429</td>\n",
       "      <td>-0.214286</td>\n",
       "      <td>-0.214286</td>\n",
       "      <td>-1.357143</td>\n",
       "      <td>-1.071429</td>\n",
       "      <td>-0.857143</td>\n",
       "      <td>-0.857143</td>\n",
       "      <td>-0.785714</td>\n",
       "    </tr>\n",
       "  </tbody>\n",
       "</table>\n",
       "<p>5 rows × 91 columns</p>\n",
       "</div>"
      ],
      "text/plain": [
       "       HomeID  AwayID  FTHG  FTAG  FTR        Date  H_WIN_PCT_home  \\\n",
       "1889       10       4     0     0    0  2015-05-20        0.666667   \n",
       "6121       42      43     2     1    1  2019-04-13        0.685714   \n",
       "11171     104     109     1     1    0  2014-09-28        0.526316   \n",
       "12328     122     100     0     0    0  2017-10-15        0.473684   \n",
       "4157       49      51     1     4    2  2012-11-28        0.424242   \n",
       "\n",
       "       H_DRAW_PCT_home  A_WIN_PCT_home  A_DRAW_PCT_home  ...  REL_PTS_1_away  \\\n",
       "1889          0.250000        0.552632         0.157895  ...        1.243243   \n",
       "6121          0.200000        0.424242         0.333333  ...        1.147783   \n",
       "11171         0.289474        0.342105         0.342105  ...        0.333333   \n",
       "12328         0.184211        0.184211         0.236842  ...        1.750000   \n",
       "4157          0.303030        0.205882         0.294118  ...        0.714286   \n",
       "\n",
       "       REL_PTS_2_away  REL_PTS_3_away  REL_PTS_4_away  REL_PTS_5_away  \\\n",
       "1889         1.027027        0.918919        0.837838        0.648649   \n",
       "6121         1.137931        0.826355        0.719212        0.576355   \n",
       "11171        0.000000        0.000000       -0.166667       -0.333333   \n",
       "12328        1.250000        1.125000        1.000000        1.000000   \n",
       "4157         0.000000       -0.071429       -0.214286       -0.214286   \n",
       "\n",
       "       REL_PTS_N-0_away  REL_PTS_N-1_away  REL_PTS_N-2_away  REL_PTS_N-3_away  \\\n",
       "1889          -0.216216         -0.108108         -0.054054          0.000000   \n",
       "6121          -0.517241         -0.387931         -0.245074         -0.206897   \n",
       "11171         -1.666667         -1.666667         -1.666667         -1.666667   \n",
       "12328         -0.625000         -0.142857         -0.142857         -0.125000   \n",
       "4157          -1.357143         -1.071429         -0.857143         -0.857143   \n",
       "\n",
       "       REL_PTS_N-4_away  \n",
       "1889           0.000000  \n",
       "6121           0.000000  \n",
       "11171         -1.500000  \n",
       "12328          0.000000  \n",
       "4157          -0.785714  \n",
       "\n",
       "[5 rows x 91 columns]"
      ]
     },
     "execution_count": 12,
     "metadata": {},
     "output_type": "execute_result"
    }
   ],
   "source": [
    "df.sample(5)"
   ]
  },
  {
   "cell_type": "markdown",
   "metadata": {},
   "source": [
    "# Extracting target variables and features"
   ]
  },
  {
   "cell_type": "markdown",
   "metadata": {},
   "source": [
    "# _WICHTIG: Das hier muss auf neue columns angepasst werden (z.B. season)_"
   ]
  },
  {
   "cell_type": "code",
   "execution_count": 17,
   "metadata": {},
   "outputs": [],
   "source": [
    "# If True, the goal difference for a specific game is seen as the target variable.\n",
    "# (e.g. -3 for a game outcome of 1:4, or 2 for 3:1) .\n",
    "\n",
    "# If False, we just want to predict the winner.\n",
    "# 1 = Home team wins, 0 = Draw, 2 = Away team wins\n",
    "predict_goal_difference = False\n",
    "\n",
    "if predict_goal_difference:\n",
    "    y = df['FTHG'] - df['FTAG']\n",
    "else:\n",
    "    y = df['FTR']\n",
    "    \n",
    "# Remove unnecessary columns (IDs etc.) from features\n",
    "X = df.iloc[:,6:].drop(['season', 'GAME_CNT_AFTER_GAME_home', 'GAME_CNT_AFTER_GAME_away', 'league'], axis=1)    \n",
    "#X['FTR'] = df['FTR']"
   ]
  },
  {
   "cell_type": "code",
   "execution_count": null,
   "metadata": {
    "scrolled": true
   },
   "outputs": [],
   "source": [
    "df.iloc[:,6:].drop(['season', 'GAME_CNT_AFTER_GAME_home', 'GAME_CNT_AFTER_GAME_away'], axis=1).columns"
   ]
  },
  {
   "cell_type": "markdown",
   "metadata": {},
   "source": [
    "# Ranked Probability Score (RPS)"
   ]
  },
  {
   "cell_type": "code",
   "execution_count": 18,
   "metadata": {},
   "outputs": [],
   "source": [
    "def rps(pred, actual_value, r=3):\n",
    "    '''Returns the ranked probability score for a single given game.\n",
    "    (see Hubacek paper for formula)\n",
    "    \n",
    "    Arguments:\n",
    "    pred -- predicted results; in vector form (e.g. [0.1, 0.6, 0.3])\n",
    "    actual_value -- actual result (0, 1 or 2); not in vector form yet\n",
    "    r -- number of categories (3 for football)\n",
    "    '''\n",
    "    value_vec = [0, 0, 0]\n",
    "    \n",
    "    # Bring value_vec into 1, 0, 2 order\n",
    "    if actual_value == 0:\n",
    "        value_vec[1] = 1\n",
    "    elif actual_value == 2:\n",
    "        value_vec[2] = 1\n",
    "    elif actual_value == 1:\n",
    "        value_vec[0] = 1\n",
    "    else:\n",
    "        print(actual_value)\n",
    "        raise Exception('Prediction was not in [1, 0, 2].')\n",
    "    #value_vec = [0, 0, 1]\n",
    "    \n",
    "    #print(pred)\n",
    "    #print(\"pred:\", pred, \"vec:\", value_vec, \"actualval:\", actual_value)\n",
    "    pred[0], pred[1], pred[2] = pred[1], pred[0], pred[2]   # order: loss, draw, win\n",
    "    #print(\"pred:\", pred, \"vec:\", value_vec, \"actualval:\", actual_value)\n",
    "    \n",
    "    rps = 0\n",
    "    \n",
    "    for i in range(0, r-1):\n",
    "        inner_sum = 0\n",
    "        for j in range(0, i+1):\n",
    "            inner_sum += (pred[j] - value_vec[j])\n",
    "        rps += np.square(inner_sum)\n",
    "    \n",
    "    rps /= (r-1)\n",
    "    \n",
    "    return rps\n",
    "\n",
    "\n",
    "# To be used as eval_metric parameter\n",
    "def rps_eval_metric(y_true, y_pred):\n",
    "    return rps(y_pred, y_true)"
   ]
  },
  {
   "cell_type": "markdown",
   "metadata": {},
   "source": [
    "# Model fit"
   ]
  },
  {
   "cell_type": "code",
   "execution_count": null,
   "metadata": {},
   "outputs": [],
   "source": [
    "list_test_accu = []\n",
    "list_train_accu = []\n",
    "list_rs = []"
   ]
  },
  {
   "cell_type": "code",
   "execution_count": 41,
   "metadata": {},
   "outputs": [],
   "source": [
    "# Apparently the random states are pretty important. 21 works very well on RPS and test accuracy, 16 only on accuracy.\n",
    "#X_train, X_test, y_train, y_test = train_test_split(X, y, test_size=0.3, random_state=543)\n",
    "X_train, X_test, y_train, y_test = train_test_split(X, y, test_size=0.3)"
   ]
  },
  {
   "cell_type": "markdown",
   "metadata": {},
   "source": [
    "## Find best value for *n_estimators*"
   ]
  },
  {
   "cell_type": "code",
   "execution_count": null,
   "metadata": {
    "scrolled": true
   },
   "outputs": [],
   "source": [
    "# We start with n_estimators=50...\n",
    "xgb_cl = xgb.XGBClassifier(objective='multi:softprob', n_estimators=50, seed=16)\n",
    "# ...and then validate it to find the lowest loss.\n",
    "op = xgb_cl.fit(X_train, y_train, early_stopping_rounds=900, eval_metric='mlogloss', eval_set=[(X_test, y_test)])"
   ]
  },
  {
   "cell_type": "code",
   "execution_count": null,
   "metadata": {},
   "outputs": [],
   "source": [
    "learning_rates = [0.2, 0.3, 0.4]\n",
    "n_estimators = [8, 16, 32]\n",
    "subsamples = [0.6, 0.8, 0.9, 1]\n",
    "colsample_bytree = [0.5, 0.75, 0.9, 1]\n",
    "max_depth = [3, 6, 8, 12]\n",
    "param_grid = dict(n_estimators=n_estimators, learning_rate=learning_rates, subsample=subsamples, colsample_bytree=colsample_bytree, max_depth=max_depth)"
   ]
  },
  {
   "cell_type": "code",
   "execution_count": null,
   "metadata": {},
   "outputs": [],
   "source": [
    "from sklearn.model_selection import KFold\n",
    "from sklearn.model_selection import cross_val_score"
   ]
  },
  {
   "cell_type": "code",
   "execution_count": null,
   "metadata": {},
   "outputs": [],
   "source": [
    "grid = GridSearchCV(estimator=xgb_cl, param_grid=param_grid, n_jobs=8, cv=3)\n",
    "grid_result = grid.fit(X, y)\n",
    "\n",
    "print(\"Best: %f using %s\" % (grid_result.best_score_, grid_result.best_params_))"
   ]
  },
  {
   "cell_type": "markdown",
   "metadata": {},
   "source": [
    "## Use best parameters to fit the model"
   ]
  },
  {
   "cell_type": "code",
   "execution_count": 42,
   "metadata": {},
   "outputs": [],
   "source": [
    "# n_estimators=8 had the lowest loss, so we overwrite the previous model.b\n",
    "#xgb_cl = xgb.XGBClassifier(objective='multi:softprob', n_estimators=64, seed=16, learning_rate=0.2, subsample=1, colsample_bytree=0.6, max_depth=4)\n",
    "xgb_cl = xgb.XGBClassifier(objective='multi:softprob', n_estimators=64, learning_rate=0.2, subsample=1, colsample_bytree=0.6, max_depth=4)"
   ]
  },
  {
   "cell_type": "code",
   "execution_count": 49,
   "metadata": {},
   "outputs": [
    {
     "name": "stderr",
     "output_type": "stream",
     "text": [
      "d:\\python38\\lib\\site-packages\\xgboost\\sklearn.py:892: UserWarning: The use of label encoder in XGBClassifier is deprecated and will be removed in a future release. To remove this warning, do the following: 1) Pass option use_label_encoder=False when constructing XGBClassifier object; and 2) Encode your labels (y) as integers starting with 0, i.e. 0, 1, 2, ..., [num_class - 1].\n",
      "  warnings.warn(label_encoder_deprecation_msg, UserWarning)\n"
     ]
    },
    {
     "name": "stdout",
     "output_type": "stream",
     "text": [
      "[16:40:35] WARNING: C:/Users/Administrator/workspace/xgboost-win64_release_1.3.0/src/learner.cc:1061: Starting in XGBoost 1.3.0, the default evaluation metric used with the objective 'multi:softprob' was changed from 'merror' to 'mlogloss'. Explicitly set eval_metric if you'd like to restore the old behavior.\n"
     ]
    },
    {
     "data": {
      "text/plain": [
       "XGBClassifier(base_score=0.5, booster='gbtree', colsample_bylevel=1,\n",
       "              colsample_bynode=1, colsample_bytree=0.6, gamma=0, gpu_id=-1,\n",
       "              importance_type='gain', interaction_constraints='',\n",
       "              learning_rate=0.2, max_delta_step=0, max_depth=4,\n",
       "              min_child_weight=1, missing=nan, monotone_constraints='()',\n",
       "              n_estimators=64, n_jobs=8, num_parallel_tree=1,\n",
       "              objective='multi:softprob', random_state=0, reg_alpha=0,\n",
       "              reg_lambda=1, scale_pos_weight=None, subsample=1,\n",
       "              tree_method='exact', validate_parameters=1, verbosity=None)"
      ]
     },
     "execution_count": 49,
     "metadata": {},
     "output_type": "execute_result"
    }
   ],
   "source": [
    "xgb_cl.fit(X_train, y_train)"
   ]
  },
  {
   "cell_type": "markdown",
   "metadata": {},
   "source": [
    "# Evaluation"
   ]
  },
  {
   "cell_type": "code",
   "execution_count": 50,
   "metadata": {},
   "outputs": [
    {
     "name": "stdout",
     "output_type": "stream",
     "text": [
      "accuracy: 0.6326844262295082\n"
     ]
    }
   ],
   "source": [
    "preds = xgb_cl.predict(X_test)\n",
    "accuracy = float(np.sum(preds == y_test))/y_test.shape[0]\n",
    "\n",
    "print(f'accuracy: {accuracy}')\n",
    "#list_test_accu.append(accuracy)"
   ]
  },
  {
   "cell_type": "code",
   "execution_count": 45,
   "metadata": {},
   "outputs": [
    {
     "name": "stdout",
     "output_type": "stream",
     "text": [
      "accuracy on train set: 0.7132191480017567\n"
     ]
    }
   ],
   "source": [
    "# Looking at train set accuracy to get an intuition of how much the model overfits\n",
    "preds = xgb_cl.predict(X_train)\n",
    "accuracy = float(np.sum(preds == y_train))/y_train.shape[0]\n",
    "\n",
    "print(f'accuracy on train set: {accuracy}')\n",
    "#list_train_accu.append(accuracy)"
   ]
  },
  {
   "cell_type": "code",
   "execution_count": 32,
   "metadata": {
    "scrolled": true
   },
   "outputs": [
    {
     "name": "stdout",
     "output_type": "stream",
     "text": [
      "0.15456079021452532\n"
     ]
    }
   ],
   "source": [
    "# Predictions in form of [0.2, 0.5, 0.3] in the order of draw, home win, away win.\n",
    "# This is because it gets ordered like 0, 1, 2.\n",
    "proba_preds = xgb_cl.predict_proba(X_test)\n",
    "\n",
    "# List of RPS scores for every game in the test set.\n",
    "# Important to use iloc for y_test, otherwise indices would be wrong\n",
    "rps_list = [rps(pred, y_test.iloc[i]) for i, pred in enumerate(proba_preds)]\n",
    "\n",
    "#proba_preds\n",
    "\n",
    "#rps(proba_preds[0], y_test.iloc[0])\n",
    "\n",
    "# Average ranked probability score.\n",
    "print(np.mean(rps_list))\n",
    "#list_rs.append(np.mean(rps_list))"
   ]
  },
  {
   "cell_type": "code",
   "execution_count": null,
   "metadata": {},
   "outputs": [],
   "source": [
    "print(np.mean(list_test_accu))\n",
    "print(np.mean(list_train_accu))\n",
    "print(np.mean(list_rs))"
   ]
  },
  {
   "cell_type": "code",
   "execution_count": 15,
   "metadata": {
    "scrolled": false
   },
   "outputs": [
    {
     "data": {
      "text/plain": [
       "0.22677309555199798"
      ]
     },
     "execution_count": 15,
     "metadata": {},
     "output_type": "execute_result"
    }
   ],
   "source": [
    "# league priors -> rps (DO NOT RUN AGAIN)\n",
    "r_list = []\n",
    "for i in range(len(X_test.index)):\n",
    "    league = X_test.iloc[i]['league']\n",
    "    prob_vector = []\n",
    "    if league == 'D1':\n",
    "        prob_vector = [0.2422, 0.4582, 0.2996]\n",
    "    elif league == 'E1':\n",
    "        prob_vector = [0.2468, 0.4576, 0.2956]\n",
    "    elif league == 'I1':\n",
    "        prob_vector = [0.2575, 0.4538, 0.2888]\n",
    "    elif league == 'SP1':\n",
    "        prob_vector = [0.2371, 0.4781, 0.2848]\n",
    "    \n",
    "    r_list.append(rps(prob_vector, y_test.iloc[i]))\n",
    "    \n",
    "np.mean(r_list)"
   ]
  },
  {
   "cell_type": "code",
   "execution_count": 16,
   "metadata": {},
   "outputs": [
    {
     "data": {
      "text/plain": [
       "0.22746123051232067"
      ]
     },
     "execution_count": 16,
     "metadata": {},
     "output_type": "execute_result"
    }
   ],
   "source": [
    "# global priors -> rps\n",
    "r_list = []\n",
    "for i in range(len(y_test.index)):\n",
    "    r_list.append(rps([0.2921845, 0.46192225, 0.24589325], y_test.iloc[i]))\n",
    "np.mean(r_list)"
   ]
  },
  {
   "cell_type": "markdown",
   "metadata": {},
   "source": [
    "## Feature importances"
   ]
  },
  {
   "cell_type": "code",
   "execution_count": 56,
   "metadata": {
    "scrolled": false
   },
   "outputs": [
    {
     "name": "stdout",
     "output_type": "stream",
     "text": [
      "('H_WIN_PCT_home', 0.009758653)\n",
      "('H_DRAW_PCT_home', 0.005967357)\n",
      "('A_WIN_PCT_home', 0.01051141)\n",
      "('A_DRAW_PCT_home', 0.0063104676)\n",
      "('H_WIN_PCT_away', 0.008923647)\n",
      "('H_DRAW_PCT_away', 0.0070527554)\n",
      "('A_WIN_PCT_away', 0.008313777)\n",
      "('A_DRAW_PCT_away', 0.0072810515)\n",
      "('H_GS_AVG_home', 0.007245459)\n",
      "('H_GC_AVG_home', 0.00672335)\n",
      "('A_GS_AVG_home', 0.006291983)\n",
      "('A_GC_AVG_home', 0.0053140293)\n",
      "('H_GS_AVG_away', 0.006189141)\n",
      "('H_GC_AVG_away', 0.00663039)\n",
      "('A_GS_AVG_away', 0.005314836)\n",
      "('A_GC_AVG_away', 0.0070118564)\n",
      "('H_GS_STD_home', 0.006671467)\n",
      "('H_GC_STD_home', 0.007369442)\n",
      "('A_GS_STD_home', 0.007244088)\n",
      "('A_GC_STD_home', 0.0064879674)\n",
      "('H_GS_STD_away', 0.006913153)\n",
      "('H_GC_STD_away', 0.006340397)\n",
      "('A_GS_STD_away', 0.0058359765)\n",
      "('A_GC_STD_away', 0.004883841)\n",
      "('WIN_PCT_home', 0.013500997)\n",
      "('WIN_PCT_away', 0.013642241)\n",
      "('DRAW_PCT_home', 0.0074263546)\n",
      "('DRAW_PCT_away', 0.010306111)\n",
      "('GS_AVG_home', 0.0057456787)\n",
      "('GC_AVG_home', 0.007634116)\n",
      "('GS_AVG_away', 0.006804413)\n",
      "('GC_AVG_away', 0.007638291)\n",
      "('GS_STD_home', 0.0053637847)\n",
      "('GC_STD_home', 0.0077155028)\n",
      "('GS_STD_away', 0.006793276)\n",
      "('GC_STD_away', 0.0048833285)\n",
      "('REST_home', 0.0061124237)\n",
      "('REST_away', 0.0066641425)\n",
      "('H_GS_AVG_league', 0.006304645)\n",
      "('A_GS_AVG_league', 0.0060945977)\n",
      "('H_GS_STD_league', 0.0056588827)\n",
      "('A_GS_STD_league', 0.007485427)\n",
      "('H_WIN_PCT_league', 0.0065641142)\n",
      "('DRAW_PCT_league', 0.006801407)\n",
      "('TEAM_CNT_league', 0.0)\n",
      "('GD_STD_league', 0.005956812)\n",
      "('RND_CNT_league', 0.0)\n",
      "('H_RTG_home', 0.0071983566)\n",
      "('A_RTG_home', 0.0060306136)\n",
      "('H_RTG_away', 0.008239316)\n",
      "('A_RTG_away', 0.007295727)\n",
      "('EGD', 0.0066952463)\n",
      "('RED_home', 0.00597323)\n",
      "('RED_away', 0.0047918735)\n",
      "('H_ST_home', 0.0070762704)\n",
      "('A_ST_home', 0.007285428)\n",
      "('H_ST_away', 0.0069283973)\n",
      "('A_ST_away', 0.008296408)\n",
      "('RND', 0.010922789)\n",
      "('PTS_AFTER_GAME_home', 0.030960113)\n",
      "('PTS_AFTER_GAME_away', 0.028976047)\n",
      "('REL_PTS_1_home', 0.012979257)\n",
      "('REL_PTS_2_home', 0.023755878)\n",
      "('REL_PTS_3_home', 0.016444504)\n",
      "('REL_PTS_4_home', 0.022327397)\n",
      "('REL_PTS_5_home', 0.023504956)\n",
      "('REL_PTS_N-0_home', 0.015565491)\n",
      "('REL_PTS_N-1_home', 0.031031499)\n",
      "('REL_PTS_N-2_home', 0.054221574)\n",
      "('REL_PTS_N-3_home', 0.03783432)\n",
      "('REL_PTS_N-4_home', 0.059684288)\n",
      "('REL_PTS_1_away', 0.010784288)\n",
      "('REL_PTS_2_away', 0.012390331)\n",
      "('REL_PTS_3_away', 0.012826056)\n",
      "('REL_PTS_4_away', 0.016176743)\n",
      "('REL_PTS_5_away', 0.024755742)\n",
      "('REL_PTS_N-0_away', 0.018072039)\n",
      "('REL_PTS_N-1_away', 0.049266934)\n",
      "('REL_PTS_N-2_away', 0.012055618)\n",
      "('REL_PTS_N-3_away', 0.047104105)\n",
      "('REL_PTS_N-4_away', 0.03086607)\n"
     ]
    }
   ],
   "source": [
    "for k in zip(X.columns, xgb_cl.feature_importances_):\n",
    "    print(k)"
   ]
  },
  {
   "cell_type": "code",
   "execution_count": 69,
   "metadata": {},
   "outputs": [],
   "source": [
    "fbuckets = []\n",
    "for i in range(len(xgb_cl.feature_importances_)):\n",
    "    if i < 24:\n",
    "        fbuckets.append('Historical strength')\n",
    "    elif 24 <= i < 38:\n",
    "        fbuckets.append('Current form')\n",
    "    elif 38 <= i < 47:\n",
    "        fbuckets.append('League')\n",
    "    elif 47 <= i < 52:\n",
    "        fbuckets.append('Pi-ratings')\n",
    "    elif 52 <= i < 54:\n",
    "        fbuckets.append('Current form')\n",
    "    elif 54 <= i < 58:\n",
    "        fbuckets.append('Historical strength')\n",
    "    elif i >= 58:\n",
    "        fbuckets.append('Match importance')\n",
    "    else:\n",
    "        fbuckets.append('blah')"
   ]
  },
  {
   "cell_type": "code",
   "execution_count": 70,
   "metadata": {
    "scrolled": false
   },
   "outputs": [
    {
     "name": "stdout",
     "output_type": "stream",
     "text": [
      "('H_WIN_PCT_home', 0.009758653, 'Historical strength')\n",
      "('H_DRAW_PCT_home', 0.005967357, 'Historical strength')\n",
      "('A_WIN_PCT_home', 0.01051141, 'Historical strength')\n",
      "('A_DRAW_PCT_home', 0.0063104676, 'Historical strength')\n",
      "('H_WIN_PCT_away', 0.008923647, 'Historical strength')\n",
      "('H_DRAW_PCT_away', 0.0070527554, 'Historical strength')\n",
      "('A_WIN_PCT_away', 0.008313777, 'Historical strength')\n",
      "('A_DRAW_PCT_away', 0.0072810515, 'Historical strength')\n",
      "('H_GS_AVG_home', 0.007245459, 'Historical strength')\n",
      "('H_GC_AVG_home', 0.00672335, 'Historical strength')\n",
      "('A_GS_AVG_home', 0.006291983, 'Historical strength')\n",
      "('A_GC_AVG_home', 0.0053140293, 'Historical strength')\n",
      "('H_GS_AVG_away', 0.006189141, 'Historical strength')\n",
      "('H_GC_AVG_away', 0.00663039, 'Historical strength')\n",
      "('A_GS_AVG_away', 0.005314836, 'Historical strength')\n",
      "('A_GC_AVG_away', 0.0070118564, 'Historical strength')\n",
      "('H_GS_STD_home', 0.006671467, 'Historical strength')\n",
      "('H_GC_STD_home', 0.007369442, 'Historical strength')\n",
      "('A_GS_STD_home', 0.007244088, 'Historical strength')\n",
      "('A_GC_STD_home', 0.0064879674, 'Historical strength')\n",
      "('H_GS_STD_away', 0.006913153, 'Historical strength')\n",
      "('H_GC_STD_away', 0.006340397, 'Historical strength')\n",
      "('A_GS_STD_away', 0.0058359765, 'Historical strength')\n",
      "('A_GC_STD_away', 0.004883841, 'Historical strength')\n",
      "('WIN_PCT_home', 0.013500997, 'Current form')\n",
      "('WIN_PCT_away', 0.013642241, 'Current form')\n",
      "('DRAW_PCT_home', 0.0074263546, 'Current form')\n",
      "('DRAW_PCT_away', 0.010306111, 'Current form')\n",
      "('GS_AVG_home', 0.0057456787, 'Current form')\n",
      "('GC_AVG_home', 0.007634116, 'Current form')\n",
      "('GS_AVG_away', 0.006804413, 'Current form')\n",
      "('GC_AVG_away', 0.007638291, 'Current form')\n",
      "('GS_STD_home', 0.0053637847, 'Current form')\n",
      "('GC_STD_home', 0.0077155028, 'Current form')\n",
      "('GS_STD_away', 0.006793276, 'Current form')\n",
      "('GC_STD_away', 0.0048833285, 'Current form')\n",
      "('REST_home', 0.0061124237, 'Current form')\n",
      "('REST_away', 0.0066641425, 'Current form')\n",
      "('H_GS_AVG_league', 0.006304645, 'League')\n",
      "('A_GS_AVG_league', 0.0060945977, 'League')\n",
      "('H_GS_STD_league', 0.0056588827, 'League')\n",
      "('A_GS_STD_league', 0.007485427, 'League')\n",
      "('H_WIN_PCT_league', 0.0065641142, 'League')\n",
      "('DRAW_PCT_league', 0.006801407, 'League')\n",
      "('TEAM_CNT_league', 0.0, 'League')\n",
      "('GD_STD_league', 0.005956812, 'League')\n",
      "('RND_CNT_league', 0.0, 'League')\n",
      "('H_RTG_home', 0.0071983566, 'Pi-ratings')\n",
      "('A_RTG_home', 0.0060306136, 'Pi-ratings')\n",
      "('H_RTG_away', 0.008239316, 'Pi-ratings')\n",
      "('A_RTG_away', 0.007295727, 'Pi-ratings')\n",
      "('EGD', 0.0066952463, 'Pi-ratings')\n",
      "('RED_home', 0.00597323, 'Current form')\n",
      "('RED_away', 0.0047918735, 'Current form')\n",
      "('H_ST_home', 0.0070762704, 'Historical strength')\n",
      "('A_ST_home', 0.007285428, 'Historical strength')\n",
      "('H_ST_away', 0.0069283973, 'Historical strength')\n",
      "('A_ST_away', 0.008296408, 'Historical strength')\n",
      "('RND', 0.010922789, 'Match importance')\n",
      "('PTS_AFTER_GAME_home', 0.030960113, 'Match importance')\n",
      "('PTS_AFTER_GAME_away', 0.028976047, 'Match importance')\n",
      "('REL_PTS_1_home', 0.012979257, 'Match importance')\n",
      "('REL_PTS_2_home', 0.023755878, 'Match importance')\n",
      "('REL_PTS_3_home', 0.016444504, 'Match importance')\n",
      "('REL_PTS_4_home', 0.022327397, 'Match importance')\n",
      "('REL_PTS_5_home', 0.023504956, 'Match importance')\n",
      "('REL_PTS_N-0_home', 0.015565491, 'Match importance')\n",
      "('REL_PTS_N-1_home', 0.031031499, 'Match importance')\n",
      "('REL_PTS_N-2_home', 0.054221574, 'Match importance')\n",
      "('REL_PTS_N-3_home', 0.03783432, 'Match importance')\n",
      "('REL_PTS_N-4_home', 0.059684288, 'Match importance')\n",
      "('REL_PTS_1_away', 0.010784288, 'Match importance')\n",
      "('REL_PTS_2_away', 0.012390331, 'Match importance')\n",
      "('REL_PTS_3_away', 0.012826056, 'Match importance')\n",
      "('REL_PTS_4_away', 0.016176743, 'Match importance')\n",
      "('REL_PTS_5_away', 0.024755742, 'Match importance')\n",
      "('REL_PTS_N-0_away', 0.018072039, 'Match importance')\n",
      "('REL_PTS_N-1_away', 0.049266934, 'Match importance')\n",
      "('REL_PTS_N-2_away', 0.012055618, 'Match importance')\n",
      "('REL_PTS_N-3_away', 0.047104105, 'Match importance')\n",
      "('REL_PTS_N-4_away', 0.03086607, 'Match importance')\n"
     ]
    }
   ],
   "source": [
    "for k in zip(X.columns, xgb_cl.feature_importances_, fbuckets):\n",
    "    print(k)"
   ]
  },
  {
   "cell_type": "code",
   "execution_count": 74,
   "metadata": {},
   "outputs": [],
   "source": [
    "from collections import defaultdict\n",
    "f_impor_perbucket = defaultdict(lambda: 0)\n",
    "for k in zip(xgb_cl.feature_importances_, fbuckets):\n",
    "    f_impor_perbucket[k[1]] += k[0]"
   ]
  },
  {
   "cell_type": "code",
   "execution_count": 75,
   "metadata": {},
   "outputs": [
    {
     "data": {
      "text/plain": [
       "defaultdict(<function __main__.<lambda>()>,\n",
       "            {'Historical strength': 0.19617299921810627,\n",
       "             'Current form': 0.12099576368927956,\n",
       "             'League': 0.04486588528379798,\n",
       "             'Pi-ratings': 0.03545925905928016,\n",
       "             'Match importance': 0.6025060405954719})"
      ]
     },
     "execution_count": 75,
     "metadata": {},
     "output_type": "execute_result"
    }
   ],
   "source": [
    "f_impor_perbucket"
   ]
  }
 ],
 "metadata": {
  "kernelspec": {
   "display_name": "Python 3",
   "language": "python",
   "name": "python3"
  },
  "language_info": {
   "codemirror_mode": {
    "name": "ipython",
    "version": 3
   },
   "file_extension": ".py",
   "mimetype": "text/x-python",
   "name": "python",
   "nbconvert_exporter": "python",
   "pygments_lexer": "ipython3",
   "version": "3.8.3"
  }
 },
 "nbformat": 4,
 "nbformat_minor": 4
}
